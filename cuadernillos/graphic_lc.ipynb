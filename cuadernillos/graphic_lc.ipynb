{
 "cells": [
  {
   "cell_type": "code",
   "execution_count": null,
   "metadata": {},
   "outputs": [],
   "source": [
    "import matplotlib.pyplot as plt\n",
    "import pickle as pkl"
   ]
  },
  {
   "cell_type": "markdown",
   "metadata": {},
   "source": [
    "# Graphics light curve"
   ]
  },
  {
   "cell_type": "code",
   "execution_count": null,
   "metadata": {},
   "outputs": [],
   "source": [
    "def graphic_lc(lc):\n",
    "    fig, ax = plt.subplots(figsize=(6, 4), tight_layout=True)\n",
    "\n",
    "    for band in [\"g\", \"bp\", \"rp\"]:\n",
    "        mask = lc[f\"variability_flag_{band}_reject\"] == \"false\"\n",
    "        if band == \"g\":\n",
    "            time_, mag_, flux_over_error_ = lc.loc[mask][[\"g_transit_time\", \"g_transit_mag\", \"g_transit_flux_over_error\"]].values.T\n",
    "        else:\n",
    "            time_, mag_, flux_over_error_ = lc.loc[mask][[f\"{band}_obs_time\", f\"{band}_mag\", f\"{band}_flux_over_error\"]].values.T\n",
    "\n",
    "        ax.errorbar(time, mag, flux_over_error, fmt='.', label=band)\n",
    "        \n",
    "    ax.set_xlabel('Time')\n",
    "    ax.set_ylabel('Magnitude')\n",
    "    ax.set_title(f'Source_id: {lc[\"source_id\"].loc[0]}')\n",
    "    ax.legend();\n",
    "    \n",
    "    # save figure\n",
    "    plt.savefig(f\"figures/graphic_lc_{lc['source_id'].loc[0]}.png\")\n",
    "    plt.close()\n"
   ]
  },
  {
   "cell_type": "code",
   "execution_count": null,
   "metadata": {},
   "outputs": [],
   "source": [
    "directory_lc = \"dataset/rrlyrae/6027794498969446400/6027794498969446400.pkl\"\n",
    "# read file .pkl\n",
    "with open(directory_lc, \"rb\") as f:\n",
    "    lc = pkl.load(f)\n",
    "\n",
    "lc"
   ]
  },
  {
   "cell_type": "code",
   "execution_count": null,
   "metadata": {},
   "outputs": [],
   "source": []
  }
 ],
 "metadata": {
  "language_info": {
   "name": "python"
  }
 },
 "nbformat": 4,
 "nbformat_minor": 2
}
