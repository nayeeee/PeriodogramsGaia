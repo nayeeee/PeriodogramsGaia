{
 "cells": [
  {
   "cell_type": "code",
   "execution_count": 6,
   "metadata": {},
   "outputs": [],
   "source": [
    "import pandas as pd\n",
    "import pickle as pk\n",
    "import numpy as np"
   ]
  },
  {
   "cell_type": "code",
   "execution_count": 29,
   "metadata": {},
   "outputs": [
    {
     "data": {
      "text/plain": [
       "0.29351493826788005"
      ]
     },
     "execution_count": 29,
     "metadata": {},
     "output_type": "execute_result"
    }
   ],
   "source": [
    "dict_per = pd.read_pickle('../dataset/ECL/184457373509254272/periodograms.pkl')\n",
    "band = 'BP'\n",
    "per = dict_per[band]\n",
    "freq = pd.read_pickle('../dataset/ECL/frequencies_ECL.pkl')\n",
    "data_global = pd.read_pickle('../dataset/data_global.pkl')\n",
    "name_lc = 184457373509254272\n",
    "lc = pd.read_pickle('../dataset/ECL/184457373509254272/184457373509254272.pkl')\n",
    "name_lc = lc.source_id.iloc[0]\n",
    "period = data_global[data_global.index == name_lc].values[0][0]\n",
    "1/period           \n"
   ]
  },
  {
   "cell_type": "code",
   "execution_count": null,
   "metadata": {},
   "outputs": [],
   "source": [
    "freq_real-(tol/2) < freq < freq_real+(tol/2)"
   ]
  },
  {
   "attachments": {},
   "cell_type": "markdown",
   "metadata": {},
   "source": [
    "Analisis para la tolerancia\n",
    "|freq-fr|/fr < tol"
   ]
  },
  {
   "cell_type": "code",
   "execution_count": 28,
   "metadata": {},
   "outputs": [
    {
     "name": "stdout",
     "output_type": "stream",
     "text": [
      "Ranking: 1 Frequency: 1.2902 Power: 0.6769\n",
      "Ranking: 2 Frequency: 0.7261 Power: 0.6498\n",
      "Ranking: 3 Frequency: 0.3116 Power: 0.6226\n",
      "Ranking: 4 Frequency: 1.0533 Power: 0.6085\n",
      "Ranking: 5 Frequency: 0.3701 Power: 0.5951\n",
      "Ranking: 6 Frequency: 1.9733 Power: 0.5729\n",
      "Ranking: 7 Frequency: 0.8809 Power: 0.5388\n",
      "Ranking: 8 Frequency: 1.0602 Power: 0.5381\n",
      "Ranking: 9 Frequency: 0.0643 Power: 0.5314\n",
      "Ranking: 10 Frequency: 1.6392 Power: 0.5234\n",
      "Ranking: 11 Frequency: 1.8875 Power: 0.5217\n",
      "Ranking: 12 Frequency: 1.2319 Power: 0.5173\n",
      "Ranking: 13 Frequency: 0.9947 Power: 0.5139\n",
      "Ranking: 14 Frequency: 1.2152 Power: 0.5124\n",
      "Ranking: 15 Frequency: 0.8227 Power: 0.5122\n",
      "Ranking: 16 Frequency: 0.5418 Power: 0.4992\n",
      "Ranking: 17 Frequency: 1.1280 Power: 0.4984\n",
      "Ranking: 18 Frequency: 0.7722 Power: 0.4969\n",
      "Ranking: 19 Frequency: 1.3759 Power: 0.4957\n",
      "Ranking: 20 Frequency: 1.0525 Power: 0.4934\n"
     ]
    }
   ],
   "source": [
    "def ranking(top, band, name_lc, type):\n",
    "    dict_per = pd.read_pickle('../dataset/'+type+'/'+name_lc+'/periodograms.pkl')\n",
    "    per = dict_per[band]\n",
    "    local_maxima = np.where((per[1:-1] > per[:-2]) & (per[1:-1] > per[2:]))[0] + 1\n",
    "    idx_highest = local_maxima[np.argsort(per[local_maxima])[::-1]]\n",
    "\n",
    "    for k, idx_ in enumerate(idx_highest[:top]):\n",
    "        #ax.axvline(freq[idx_], ls='--', lw=2, alpha=0.5, c='k') \n",
    "        print(f'Ranking: {k+1} Frequency: {freq[idx_]:0.4f} Power: {per[idx_]:0.4f}')\n"
   ]
  },
  {
   "cell_type": "code",
   "execution_count": null,
   "metadata": {},
   "outputs": [],
   "source": []
  }
 ],
 "metadata": {
  "kernelspec": {
   "display_name": "gaia",
   "language": "python",
   "name": "python3"
  },
  "language_info": {
   "codemirror_mode": {
    "name": "ipython",
    "version": 3
   },
   "file_extension": ".py",
   "mimetype": "text/x-python",
   "name": "python",
   "nbconvert_exporter": "python",
   "pygments_lexer": "ipython3",
   "version": "3.8.18"
  },
  "orig_nbformat": 4,
  "vscode": {
   "interpreter": {
    "hash": "65ff3c344aec772da584c647892069d16784991a17bd61aea89f91260260cd70"
   }
  }
 },
 "nbformat": 4,
 "nbformat_minor": 2
}
