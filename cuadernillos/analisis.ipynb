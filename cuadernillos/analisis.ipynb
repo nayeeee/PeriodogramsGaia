{
 "cells": [
  {
   "cell_type": "code",
   "execution_count": 2,
   "metadata": {},
   "outputs": [],
   "source": [
    "import pandas as pd\n",
    "import pickle as pk\n",
    "import numpy as np"
   ]
  },
  {
   "attachments": {},
   "cell_type": "markdown",
   "metadata": {},
   "source": [
    "#### Prueba de cosas "
   ]
  },
  {
   "cell_type": "code",
   "execution_count": 30,
   "metadata": {},
   "outputs": [
    {
     "data": {
      "text/html": [
       "<div>\n",
       "<style scoped>\n",
       "    .dataframe tbody tr th:only-of-type {\n",
       "        vertical-align: middle;\n",
       "    }\n",
       "\n",
       "    .dataframe tbody tr th {\n",
       "        vertical-align: top;\n",
       "    }\n",
       "\n",
       "    .dataframe thead th {\n",
       "        text-align: right;\n",
       "    }\n",
       "</style>\n",
       "<table border=\"1\" class=\"dataframe\">\n",
       "  <thead>\n",
       "    <tr style=\"text-align: right;\">\n",
       "      <th></th>\n",
       "      <th>pf</th>\n",
       "      <th>type</th>\n",
       "    </tr>\n",
       "    <tr>\n",
       "      <th>source_id</th>\n",
       "      <th></th>\n",
       "      <th></th>\n",
       "    </tr>\n",
       "  </thead>\n",
       "  <tbody>\n",
       "    <tr>\n",
       "      <th>184457373509254272</th>\n",
       "      <td>3.406982</td>\n",
       "      <td>ECL</td>\n",
       "    </tr>\n",
       "    <tr>\n",
       "      <th>187514458214460928</th>\n",
       "      <td>0.689039</td>\n",
       "      <td>ECL</td>\n",
       "    </tr>\n",
       "    <tr>\n",
       "      <th>193720243577690880</th>\n",
       "      <td>3.335009</td>\n",
       "      <td>ECL</td>\n",
       "    </tr>\n",
       "    <tr>\n",
       "      <th>204067060310941696</th>\n",
       "      <td>1.849591</td>\n",
       "      <td>ECL</td>\n",
       "    </tr>\n",
       "    <tr>\n",
       "      <th>251636125219970816</th>\n",
       "      <td>0.426586</td>\n",
       "      <td>ECL</td>\n",
       "    </tr>\n",
       "    <tr>\n",
       "      <th>...</th>\n",
       "      <td>...</td>\n",
       "      <td>...</td>\n",
       "    </tr>\n",
       "    <tr>\n",
       "      <th>6061643754695131008</th>\n",
       "      <td>0.730192</td>\n",
       "      <td>RR</td>\n",
       "    </tr>\n",
       "    <tr>\n",
       "      <th>6061651004600021888</th>\n",
       "      <td>0.498657</td>\n",
       "      <td>RR</td>\n",
       "    </tr>\n",
       "    <tr>\n",
       "      <th>6061675365655690624</th>\n",
       "      <td>0.474386</td>\n",
       "      <td>RR</td>\n",
       "    </tr>\n",
       "    <tr>\n",
       "      <th>6061700551345078912</th>\n",
       "      <td>0.652145</td>\n",
       "      <td>RR</td>\n",
       "    </tr>\n",
       "    <tr>\n",
       "      <th>6061867986376466688</th>\n",
       "      <td>0.766155</td>\n",
       "      <td>RR</td>\n",
       "    </tr>\n",
       "  </tbody>\n",
       "</table>\n",
       "<p>200 rows × 2 columns</p>\n",
       "</div>"
      ],
      "text/plain": [
       "                           pf type\n",
       "source_id                         \n",
       "184457373509254272   3.406982  ECL\n",
       "187514458214460928   0.689039  ECL\n",
       "193720243577690880   3.335009  ECL\n",
       "204067060310941696   1.849591  ECL\n",
       "251636125219970816   0.426586  ECL\n",
       "...                       ...  ...\n",
       "6061643754695131008  0.730192   RR\n",
       "6061651004600021888  0.498657   RR\n",
       "6061675365655690624  0.474386   RR\n",
       "6061700551345078912  0.652145   RR\n",
       "6061867986376466688  0.766155   RR\n",
       "\n",
       "[200 rows x 2 columns]"
      ]
     },
     "execution_count": 30,
     "metadata": {},
     "output_type": "execute_result"
    }
   ],
   "source": [
    "data = pd.read_pickle(\"../dataset/data_global.pkl\")\n",
    "data"
   ]
  },
  {
   "cell_type": "code",
   "execution_count": 75,
   "metadata": {},
   "outputs": [
    {
     "data": {
      "text/plain": [
       "3.4069816204289323"
      ]
     },
     "execution_count": 75,
     "metadata": {},
     "output_type": "execute_result"
    }
   ],
   "source": [
    "data_global[data_global.index == int('184457373509254272')].values[0][0]"
   ]
  },
  {
   "cell_type": "code",
   "execution_count": 13,
   "metadata": {},
   "outputs": [
    {
     "data": {
      "text/plain": [
       "0.29351493826788005"
      ]
     },
     "execution_count": 13,
     "metadata": {},
     "output_type": "execute_result"
    }
   ],
   "source": [
    "dict_per = pd.read_pickle('../dataset/ECL/184457373509254272/periodograms.pkl')\n",
    "band = 'BP'\n",
    "per = dict_per[band]\n",
    "freq = pd.read_pickle('../dataset/ECL/frequencies_ECL.pkl')\n",
    "data_global = pd.read_pickle('../dataset/data_global.pkl')\n",
    "name_lc = '184457373509254272'\n",
    "lc = pd.read_pickle('../dataset/ECL/184457373509254272/184457373509254272.pkl')\n",
    "name_lc = lc.source_id.iloc[0]\n",
    "period = data_global[data_global.index == name_lc].values[0][0]\n",
    "1/period           \n"
   ]
  },
  {
   "cell_type": "code",
   "execution_count": 73,
   "metadata": {},
   "outputs": [
    {
     "data": {
      "text/plain": [
       "array([1.473000e-03, 1.573000e-03, 1.673000e-03, ..., 9.999573e+00,\n",
       "       9.999673e+00, 9.999773e+00])"
      ]
     },
     "execution_count": 73,
     "metadata": {},
     "output_type": "execute_result"
    }
   ],
   "source": [
    "freq"
   ]
  },
  {
   "cell_type": "code",
   "execution_count": null,
   "metadata": {},
   "outputs": [],
   "source": [
    "freq_real-(tol/2) < freq < freq_real+(tol/2)"
   ]
  },
  {
   "attachments": {},
   "cell_type": "markdown",
   "metadata": {},
   "source": [
    "Analisis para la tolerancia\n",
    "|freq-fr|/fr < tol"
   ]
  },
  {
   "cell_type": "code",
   "execution_count": 76,
   "metadata": {},
   "outputs": [
    {
     "data": {
      "text/plain": [
       "'BP'"
      ]
     },
     "execution_count": 76,
     "metadata": {},
     "output_type": "execute_result"
    }
   ],
   "source": [
    "band"
   ]
  },
  {
   "cell_type": "code",
   "execution_count": 79,
   "metadata": {},
   "outputs": [
    {
     "name": "stdout",
     "output_type": "stream",
     "text": [
      "Ranking: 1 Frequency: 1.2902 Power: 0.6769\n",
      "Ranking: 2 Frequency: 0.7261 Power: 0.6498\n",
      "Ranking: 3 Frequency: 0.3116 Power: 0.6226\n",
      "Ranking: 4 Frequency: 1.0533 Power: 0.6085\n",
      "Ranking: 5 Frequency: 0.3701 Power: 0.5951\n",
      "Ranking: 6 Frequency: 1.9733 Power: 0.5729\n",
      "Ranking: 7 Frequency: 0.8809 Power: 0.5388\n",
      "Ranking: 8 Frequency: 1.0602 Power: 0.5381\n",
      "Ranking: 9 Frequency: 0.0643 Power: 0.5314\n",
      "Ranking: 10 Frequency: 1.6392 Power: 0.5234\n"
     ]
    }
   ],
   "source": [
    "top = 10\n",
    "type = \"ECL\"\n",
    "path = '../dataset/ECL/184457373509254272/periodograms.pkl'\n",
    "dict_per = pd.read_pickle(path)\n",
    "per = dict_per[band]\n",
    "local_maxima = np.where((per[1:-1] > per[:-2]) & (per[1:-1] > per[2:]))[0] + 1\n",
    "idx_highest = local_maxima[np.argsort(per[local_maxima])[::-1]]\n",
    "\n",
    "period = data_global[data_global.index == 184457373509254272].values[0][0]\n",
    "\n",
    "for k, idx_ in enumerate(idx_highest[:top]):\n",
    "    #ax.axvline(freq[idx_], ls='--', lw=2, alpha=0.5, c='k') \n",
    "    print(f'Ranking: {k+1} Frequency: {freq[idx_]:0.4f} Power: {per[idx_]:0.4f}')\n"
   ]
  },
  {
   "cell_type": "code",
   "execution_count": 81,
   "metadata": {},
   "outputs": [
    {
     "data": {
      "text/plain": [
       "array([12887,  7246,  3101, ..., 94640, 69133, 65562])"
      ]
     },
     "execution_count": 81,
     "metadata": {},
     "output_type": "execute_result"
    }
   ],
   "source": [
    "idx_highest"
   ]
  },
  {
   "cell_type": "code",
   "execution_count": 78,
   "metadata": {},
   "outputs": [
    {
     "data": {
      "text/plain": [
       "array([0.1447983 , 0.12472169, 0.11389534, ..., 0.041566  , 0.03039182,\n",
       "       0.02039928])"
      ]
     },
     "execution_count": 78,
     "metadata": {},
     "output_type": "execute_result"
    }
   ],
   "source": [
    "per"
   ]
  },
  {
   "cell_type": "code",
   "execution_count": 66,
   "metadata": {},
   "outputs": [
    {
     "data": {
      "text/plain": [
       "1.6391730000000009"
      ]
     },
     "execution_count": 66,
     "metadata": {},
     "output_type": "execute_result"
    }
   ],
   "source": [
    "freq[idx_]"
   ]
  },
  {
   "cell_type": "code",
   "execution_count": null,
   "metadata": {},
   "outputs": [],
   "source": []
  },
  {
   "cell_type": "code",
   "execution_count": 37,
   "metadata": {},
   "outputs": [],
   "source": [
    "def relative_error(observed, actual):\n",
    "    return np.absolute((observed - actual)/actual)"
   ]
  },
  {
   "cell_type": "code",
   "execution_count": 67,
   "metadata": {},
   "outputs": [
    {
     "name": "stdout",
     "output_type": "stream",
     "text": [
      "4805.894144013072 False\n"
     ]
    }
   ],
   "source": [
    "frequencies_ranking = idx_highest[:10]\n",
    "error = relative_error(frequencies_ranking[top-1], period)\n",
    "tol = 0.6\n",
    "tol = error < tol\n",
    "print(error, tol)"
   ]
  },
  {
   "cell_type": "code",
   "execution_count": 68,
   "metadata": {},
   "outputs": [
    {
     "data": {
      "text/plain": [
       "3781.5270094581706"
      ]
     },
     "execution_count": 68,
     "metadata": {},
     "output_type": "execute_result"
    }
   ],
   "source": [
    "relative_error(frequencies_ranking[0], period)"
   ]
  },
  {
   "cell_type": "code",
   "execution_count": 69,
   "metadata": {},
   "outputs": [
    {
     "data": {
      "text/plain": [
       "array([1.        , 2.        , 3.        , 0.5       , 0.33333333])"
      ]
     },
     "execution_count": 69,
     "metadata": {},
     "output_type": "execute_result"
    }
   ],
   "source": [
    "# columna de la matriz con multiplos y submultiplos\n",
    "max = 4  # tamaño max-1 + max-2\n",
    "multiples = np.concatenate([np.arange(1, max, 1), # multiples\n",
    "                                1./np.arange(2, max, 1)]) # submultiples\n",
    "multiples"
   ]
  },
  {
   "cell_type": "code",
   "execution_count": 8,
   "metadata": {},
   "outputs": [
    {
     "data": {
      "text/plain": [
       "17"
      ]
     },
     "execution_count": 8,
     "metadata": {},
     "output_type": "execute_result"
    }
   ],
   "source": [
    "# matriz[fila,columna]\n",
    "# matriz[freq_rank, multiplo]"
   ]
  },
  {
   "cell_type": "code",
   "execution_count": 70,
   "metadata": {},
   "outputs": [
    {
     "data": {
      "text/plain": [
       "[[[], [], [], [], []],\n",
       " [[], [], [], [], []],\n",
       " [[], [], [], [], []],\n",
       " [[], [], [], [], []],\n",
       " [[], [], [], [], []],\n",
       " [[], [], [], [], []],\n",
       " [[], [], [], [], []],\n",
       " [[], [], [], [], []],\n",
       " [[], [], [], [], []],\n",
       " [[], [], [], [], []]]"
      ]
     },
     "execution_count": 70,
     "metadata": {},
     "output_type": "execute_result"
    }
   ],
   "source": [
    "matrix = [ [ [] for i in range(5) ] for j in range(10) ]\n",
    "matrix"
   ]
  },
  {
   "cell_type": "code",
   "execution_count": 56,
   "metadata": {},
   "outputs": [
    {
     "ename": "TypeError",
     "evalue": "'list' object is not callable",
     "output_type": "error",
     "traceback": [
      "\u001b[0;31m---------------------------------------------------------------------------\u001b[0m",
      "\u001b[0;31mTypeError\u001b[0m                                 Traceback (most recent call last)",
      "\u001b[0;32m/tmp/ipykernel_5880/2157900374.py\u001b[0m in \u001b[0;36m<module>\u001b[0;34m\u001b[0m\n\u001b[0;32m----> 1\u001b[0;31m \u001b[0mmatrix\u001b[0m\u001b[0;34m(\u001b[0m\u001b[0;36m0\u001b[0m\u001b[0;34m,\u001b[0m\u001b[0;36m1\u001b[0m\u001b[0;34m)\u001b[0m\u001b[0;34m\u001b[0m\u001b[0;34m\u001b[0m\u001b[0m\n\u001b[0m",
      "\u001b[0;31mTypeError\u001b[0m: 'list' object is not callable"
     ]
    }
   ],
   "source": []
  },
  {
   "cell_type": "code",
   "execution_count": 57,
   "metadata": {},
   "outputs": [
    {
     "data": {
      "text/plain": [
       "[[[], [1, 2], [], [], [], [], [], [], [], []],\n",
       " [[], [], [], [], [], [], [], [], [], []],\n",
       " [[], [], [], [], [], [], [], [], [], []],\n",
       " [[], [], [], [], [], [], [], [], [], []],\n",
       " [[], [], [], [], [], [], [], [], [], []]]"
      ]
     },
     "execution_count": 57,
     "metadata": {},
     "output_type": "execute_result"
    }
   ],
   "source": [
    "matrix[0][1] = [1,2]\n",
    "matrix"
   ]
  },
  {
   "cell_type": "code",
   "execution_count": 71,
   "metadata": {},
   "outputs": [],
   "source": [
    "for i in range(len(frequencies_ranking)):\n",
    "    for j in range(len(multiples)):\n",
    "        error = relative_error(1/frequencies_ranking[i], period)\n",
    "        tol = error<tol\n",
    "        matrix[i][j] = [error, tol]"
   ]
  },
  {
   "cell_type": "code",
   "execution_count": 72,
   "metadata": {},
   "outputs": [
    {
     "name": "stdout",
     "output_type": "stream",
     "text": [
      "[0.9999772239514031, False] [0.9999772239514031, False] [0.9999772239514031, False] [0.9999772239514031, False] [0.9999772239514031, False] \n",
      "[0.9999594928321464, False] [0.9999594928321464, False] [0.9999594928321464, False] [0.9999594928321464, False] [0.9999594928321464, False] \n",
      "[0.9999053482946573, False] [0.9999053482946573, False] [0.9999053482946573, False] [0.9999053482946573, False] [0.9999053482946573, False] \n",
      "[0.9999720940351523, False] [0.9999720940351523, False] [0.9999720940351523, False] [0.9999720940351523, False] [0.9999720940351523, False] \n",
      "[0.999920370336878, False] [0.999920370336878, False] [0.999920370336878, False] [0.999920370336878, False] [0.999920370336878, False] \n",
      "[0.9999851143656422, False] [0.9999851143656422, False] [0.9999851143656422, False] [0.9999851143656422, False] [0.9999851143656422, False] \n",
      "[0.9999666232728829, False] [0.9999666232728829, False] [0.9999666232728829, False] [0.9999666232728829, False] [0.9999666232728829, False] \n",
      "[0.999972275910242, False] [0.999972275910242, False] [0.999972275910242, False] [0.999972275910242, False] [0.999972275910242, False] \n",
      "[0.9995326195250512, False] [0.9995326195250512, False] [0.9995326195250512, False] [0.9995326195250512, False] [0.9995326195250512, False] \n",
      "[0.999982077612611, False] [0.999982077612611, False] [0.999982077612611, False] [0.999982077612611, False] [0.999982077612611, False] \n"
     ]
    }
   ],
   "source": [
    "for i in range(10):\n",
    "        for j in range(5):\n",
    "            print(matrix[i][j], end=' ')\n",
    "        print()"
   ]
  },
  {
   "cell_type": "code",
   "execution_count": null,
   "metadata": {},
   "outputs": [],
   "source": []
  }
 ],
 "metadata": {
  "kernelspec": {
   "display_name": "gaia",
   "language": "python",
   "name": "python3"
  },
  "language_info": {
   "codemirror_mode": {
    "name": "ipython",
    "version": 3
   },
   "file_extension": ".py",
   "mimetype": "text/x-python",
   "name": "python",
   "nbconvert_exporter": "python",
   "pygments_lexer": "ipython3",
   "version": "3.8.18"
  },
  "orig_nbformat": 4,
  "vscode": {
   "interpreter": {
    "hash": "65ff3c344aec772da584c647892069d16784991a17bd61aea89f91260260cd70"
   }
  }
 },
 "nbformat": 4,
 "nbformat_minor": 2
}
