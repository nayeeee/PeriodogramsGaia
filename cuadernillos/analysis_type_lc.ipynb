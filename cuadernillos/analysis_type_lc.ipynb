{
 "cells": [
  {
   "cell_type": "code",
   "execution_count": 4,
   "metadata": {},
   "outputs": [],
   "source": [
    "import os\n",
    "import pandas as pd\n",
    "\n"
   ]
  },
  {
   "attachments": {},
   "cell_type": "markdown",
   "metadata": {},
   "source": [
    "- hacer analisis por cada tipo de curva (ECL y RR) y banda:\n",
    "  - hago un conteo, cuantas el tol=True (candidato) esta en la primera posición\n",
    "  - cuantas no tienen ningun buen candidato\n",
    "  - cuantas el candidato coincide en otra posicion (2,3,5,...)\n",
    "  - ver si vale la pena el multibanda, que si el mejor candidato sube en el ranking en el multiband \n",
    "  en comparación a las otras bandas"
   ]
  },
  {
   "attachments": {},
   "cell_type": "markdown",
   "metadata": {},
   "source": []
  },
  {
   "cell_type": "code",
   "execution_count": 69,
   "metadata": {},
   "outputs": [],
   "source": [
    "def list_matrixes(band, type_lc):\n",
    "    directory = '../dataset/' + type_lc\n",
    "    list_matrixes_band = []\n",
    "    for lc_folder in os.listdir(directory):\n",
    "        # para que no entre a frequencies_ECL.pkl\n",
    "        if lc_folder.find('.') == -1:\n",
    "            d_lc_folder = os.path.join(directory, lc_folder)\n",
    "            matrixes = pd.read_pickle(d_lc_folder + '/error_matrixes'+ lc_folder + '.pkl')\n",
    "            list_matrixes_band.append(matrixes[band][1])\n",
    "    return list_matrixes_band\n",
    "        \n"
   ]
  },
  {
   "cell_type": "code",
   "execution_count": 128,
   "metadata": {},
   "outputs": [],
   "source": [
    "def matrix_cont(top, max_mult, list_matrixes_band):\n",
    "    matrix_cont = [ [ [] for i in range(2*max_mult-3) ] for j in range(top) ]\n",
    "    for i in range(top):\n",
    "        for j in range(2*max_mult-3):\n",
    "            matrix_cont[i][j] = 0\n",
    "            for lc in list_matrixes_band:\n",
    "                if lc[i][j][1] == True:\n",
    "                    matrix_cont[i][j] += 1\n",
    "    return matrix_cont\n"
   ]
  },
  {
   "cell_type": "code",
   "execution_count": 71,
   "metadata": {},
   "outputs": [],
   "source": [
    "def print_matrix_cont(matrix, top, max_mult, type_lc, band):\n",
    "    print(f'Contador donde la tolerancia es True \\ntipo:{type_lc} banda: {band}')\n",
    "    cont_sin_lc = 0\n",
    "    for i in range(top):\n",
    "        print(f'freq ranking {i+1}', end='  ')\n",
    "        for j in range(2*max_mult-3):\n",
    "            print(matrix[i][j], end=\" \")\n",
    "            cont_sin_lc += matrix[i][j]\n",
    "        print()\n",
    "    print(f'{100-cont_sin_lc} curvas no presentan tolerancia True')"
   ]
  },
  {
   "cell_type": "code",
   "execution_count": 115,
   "metadata": {},
   "outputs": [
    {
     "name": "stdout",
     "output_type": "stream",
     "text": [
      "Contador donde la tolerancia es True \n",
      "tipo:ECL banda: BP\n",
      "freq ranking 1  6 0 1 0 32 1 1 \n",
      "freq ranking 2  2 2 0 0 2 2 3 \n",
      "freq ranking 3  1 0 0 0 3 0 0 \n",
      "freq ranking 4  1 0 0 2 1 0 1 \n",
      "freq ranking 5  1 1 0 0 2 1 0 \n",
      "freq ranking 6  2 1 0 1 2 1 0 \n",
      "freq ranking 7  1 0 0 0 0 2 0 \n",
      "freq ranking 8  1 0 0 0 0 0 0 \n",
      "freq ranking 9  1 0 0 0 0 0 0 \n",
      "freq ranking 10  1 0 0 0 0 1 1 \n",
      "19 curvas no presentan tolerancia True\n"
     ]
    }
   ],
   "source": [
    "top = 10\n",
    "max_mult = 5\n",
    "list_matrixes_band = list_matrixes('BP', 'ECL')\n",
    "matrix_cont = matrix_cont(top, max_mult, list_matrixes_band)\n",
    "print_matrix_cont(matrix_cont, top, max_mult, 'ECL', 'BP')\n"
   ]
  },
  {
   "cell_type": "code",
   "execution_count": 117,
   "metadata": {},
   "outputs": [
    {
     "name": "stdout",
     "output_type": "stream",
     "text": [
      "Contador donde la tolerancia es True \n",
      "tipo:ECL banda: G\n",
      "freq ranking 1  2 0 1 0 25 2 1 \n",
      "freq ranking 2  4 0 0 0 6 0 1 \n",
      "freq ranking 3  1 1 0 1 4 1 1 \n",
      "freq ranking 4  2 0 0 0 3 0 1 \n",
      "freq ranking 5  2 0 0 0 1 0 1 \n",
      "freq ranking 6  1 0 0 0 0 1 1 \n",
      "freq ranking 7  1 0 0 0 1 0 1 \n",
      "freq ranking 8  1 0 0 0 0 0 1 \n",
      "freq ranking 9  1 0 0 0 1 0 1 \n",
      "freq ranking 10  1 0 0 1 2 0 0 \n",
      "24 curvas no presentan tolerancia True\n"
     ]
    }
   ],
   "source": [
    "list_matrixes_band = list_matrixes('G', 'ECL')\n",
    "matrix_cont = matrix_cont(top, max_mult, list_matrixes_band)\n",
    "print_matrix_cont(matrix_cont, top, max_mult, 'ECL', 'G')"
   ]
  },
  {
   "cell_type": "code",
   "execution_count": 119,
   "metadata": {},
   "outputs": [
    {
     "name": "stdout",
     "output_type": "stream",
     "text": [
      "Contador donde la tolerancia es True \n",
      "tipo:ECL banda: RP\n",
      "freq ranking 1  5 1 1 0 33 1 0 \n",
      "freq ranking 2  2 0 0 0 4 2 3 \n",
      "freq ranking 3  1 0 0 1 2 0 0 \n",
      "freq ranking 4  3 1 0 1 1 1 1 \n",
      "freq ranking 5  0 0 0 1 1 0 0 \n",
      "freq ranking 6  0 0 0 0 1 0 1 \n",
      "freq ranking 7  2 0 0 0 1 2 0 \n",
      "freq ranking 8  1 1 0 0 0 0 0 \n",
      "freq ranking 9  2 0 0 0 0 0 1 \n",
      "freq ranking 10  0 0 0 0 1 0 0 \n",
      "21 curvas no presentan tolerancia True\n"
     ]
    }
   ],
   "source": [
    "list_matrixes_band = list_matrixes('RP', 'ECL')\n",
    "matrix_cont = matrix_cont(top, max_mult, list_matrixes_band)\n",
    "print_matrix_cont(matrix_cont, top, max_mult, 'ECL', 'RP')"
   ]
  },
  {
   "cell_type": "code",
   "execution_count": 121,
   "metadata": {},
   "outputs": [
    {
     "name": "stdout",
     "output_type": "stream",
     "text": [
      "Contador donde la tolerancia es True \n",
      "tipo:ECL banda: multiband\n",
      "freq ranking 1  4 0 1 0 28 2 1 \n",
      "freq ranking 2  3 1 0 0 4 1 2 \n",
      "freq ranking 3  2 0 0 1 5 0 0 \n",
      "freq ranking 4  3 0 0 0 2 0 3 \n",
      "freq ranking 5  0 0 0 0 0 0 1 \n",
      "freq ranking 6  1 0 0 0 0 0 0 \n",
      "freq ranking 7  2 0 0 1 2 1 1 \n",
      "freq ranking 8  0 0 0 0 2 0 0 \n",
      "freq ranking 9  0 1 0 0 1 0 0 \n",
      "freq ranking 10  1 0 0 0 0 0 0 \n",
      "23 curvas no presentan tolerancia True\n"
     ]
    }
   ],
   "source": [
    "list_matrixes_band = list_matrixes('multiband', 'ECL')\n",
    "matrix_cont = matrix_cont(top, max_mult, list_matrixes_band)\n",
    "print_matrix_cont(matrix_cont, top, max_mult, 'ECL', 'multiband')"
   ]
  },
  {
   "cell_type": "code",
   "execution_count": 123,
   "metadata": {},
   "outputs": [
    {
     "name": "stdout",
     "output_type": "stream",
     "text": [
      "Contador donde la tolerancia es True \n",
      "tipo:RR banda: BP\n",
      "freq ranking 1  82 0 0 0 0 0 0 \n",
      "freq ranking 2  7 0 0 0 0 0 0 \n",
      "freq ranking 3  1 0 0 0 0 0 0 \n",
      "freq ranking 4  0 0 0 0 0 0 0 \n",
      "freq ranking 5  1 0 0 0 0 0 0 \n",
      "freq ranking 6  1 0 0 0 0 0 0 \n",
      "freq ranking 7  1 0 0 0 0 0 0 \n",
      "freq ranking 8  1 0 0 0 0 0 0 \n",
      "freq ranking 9  0 0 0 0 0 0 0 \n",
      "freq ranking 10  0 0 0 0 1 0 0 \n",
      "5 curvas no presentan tolerancia True\n"
     ]
    }
   ],
   "source": [
    "list_matrixes_band = list_matrixes('BP', 'RR')\n",
    "matrix_cont = matrix_cont(top, max_mult, list_matrixes_band)\n",
    "print_matrix_cont(matrix_cont, top, max_mult, 'RR', 'BP')"
   ]
  },
  {
   "cell_type": "code",
   "execution_count": 125,
   "metadata": {},
   "outputs": [
    {
     "name": "stdout",
     "output_type": "stream",
     "text": [
      "Contador donde la tolerancia es True \n",
      "tipo:RR banda: G\n",
      "freq ranking 1  93 0 0 0 0 0 0 \n",
      "freq ranking 2  2 0 0 0 1 0 0 \n",
      "freq ranking 3  0 0 0 0 0 0 0 \n",
      "freq ranking 4  1 0 0 0 0 1 0 \n",
      "freq ranking 5  0 0 0 0 0 0 0 \n",
      "freq ranking 6  0 0 0 0 0 0 0 \n",
      "freq ranking 7  0 0 0 0 0 0 0 \n",
      "freq ranking 8  1 0 0 0 0 0 0 \n",
      "freq ranking 9  0 0 0 0 0 0 0 \n",
      "freq ranking 10  0 0 0 0 0 0 0 \n",
      "1 curvas no presentan tolerancia True\n"
     ]
    }
   ],
   "source": [
    "list_matrixes_band = list_matrixes('G', 'RR')\n",
    "matrix_cont = matrix_cont(top, max_mult, list_matrixes_band)\n",
    "print_matrix_cont(matrix_cont, top, max_mult, 'RR', 'G')"
   ]
  },
  {
   "cell_type": "code",
   "execution_count": 127,
   "metadata": {},
   "outputs": [
    {
     "name": "stdout",
     "output_type": "stream",
     "text": [
      "Contador donde la tolerancia es True \n",
      "tipo:RR banda: RP\n",
      "freq ranking 1  83 0 0 0 0 0 0 \n",
      "freq ranking 2  2 0 0 0 0 0 0 \n",
      "freq ranking 3  1 0 0 0 0 0 0 \n",
      "freq ranking 4  0 0 0 0 0 0 0 \n",
      "freq ranking 5  0 0 0 0 0 0 0 \n",
      "freq ranking 6  0 0 0 0 0 0 0 \n",
      "freq ranking 7  1 0 0 0 0 0 0 \n",
      "freq ranking 8  1 0 0 0 0 1 0 \n",
      "freq ranking 9  0 0 0 0 1 0 1 \n",
      "freq ranking 10  0 0 0 0 1 0 0 \n",
      "8 curvas no presentan tolerancia True\n"
     ]
    }
   ],
   "source": [
    "list_matrixes_band = list_matrixes('RP', 'RR')\n",
    "matrix_cont = matrix_cont(top, max_mult, list_matrixes_band)\n",
    "print_matrix_cont(matrix_cont, top, max_mult, 'RR', 'RP')"
   ]
  },
  {
   "cell_type": "code",
   "execution_count": 129,
   "metadata": {},
   "outputs": [
    {
     "name": "stdout",
     "output_type": "stream",
     "text": [
      "Contador donde la tolerancia es True \n",
      "tipo:RR banda: multiband\n",
      "freq ranking 1  92 0 0 0 0 0 0 \n",
      "freq ranking 2  3 0 0 0 1 0 0 \n",
      "freq ranking 3  0 0 0 0 0 0 0 \n",
      "freq ranking 4  0 0 0 0 0 1 0 \n",
      "freq ranking 5  1 0 0 0 0 0 0 \n",
      "freq ranking 6  0 0 0 0 0 0 0 \n",
      "freq ranking 7  0 0 0 0 0 0 0 \n",
      "freq ranking 8  1 0 0 0 0 1 0 \n",
      "freq ranking 9  0 0 0 0 0 0 0 \n",
      "freq ranking 10  0 0 0 0 0 0 0 \n",
      "0 curvas no presentan tolerancia True\n"
     ]
    }
   ],
   "source": [
    "list_matrixes_band = list_matrixes('multiband', 'RR')\n",
    "matrix_cont = matrix_cont(top, max_mult, list_matrixes_band)\n",
    "print_matrix_cont(matrix_cont, top, max_mult, 'RR', 'multiband')"
   ]
  },
  {
   "cell_type": "code",
   "execution_count": null,
   "metadata": {},
   "outputs": [],
   "source": []
  }
 ],
 "metadata": {
  "kernelspec": {
   "display_name": "gaia",
   "language": "python",
   "name": "python3"
  },
  "language_info": {
   "codemirror_mode": {
    "name": "ipython",
    "version": 3
   },
   "file_extension": ".py",
   "mimetype": "text/x-python",
   "name": "python",
   "nbconvert_exporter": "python",
   "pygments_lexer": "ipython3",
   "version": "3.8.18"
  },
  "orig_nbformat": 4,
  "vscode": {
   "interpreter": {
    "hash": "65ff3c344aec772da584c647892069d16784991a17bd61aea89f91260260cd70"
   }
  }
 },
 "nbformat": 4,
 "nbformat_minor": 2
}
