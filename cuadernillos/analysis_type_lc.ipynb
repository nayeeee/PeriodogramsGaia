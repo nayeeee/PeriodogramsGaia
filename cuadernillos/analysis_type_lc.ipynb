{
 "cells": [
  {
   "cell_type": "code",
   "execution_count": 1,
   "metadata": {},
   "outputs": [],
   "source": [
    "import os\n",
    "import pandas as pd\n",
    "\n"
   ]
  },
  {
   "attachments": {},
   "cell_type": "markdown",
   "metadata": {},
   "source": [
    "- hacer analisis por cada tipo de curva (ECL y RR) y banda:\n",
    "  - hago un conteo, cuantas el tol=True (candidato) esta en la primera posición\n",
    "  - cuantas no tienen ningun buen candidato\n",
    "  - cuantas el candidato coincide en otra posicion (2,3,5,...)\n",
    "  - ver si vale la pena el multibanda, que si el mejor candidato sube en el ranking en el multiband \n",
    "  en comparación a las otras bandas"
   ]
  },
  {
   "cell_type": "code",
   "execution_count": 128,
   "metadata": {},
   "outputs": [],
   "source": [
    "def list_matrixes(band, type_lc):\n",
    "    cont = 0\n",
    "    directory = '../dataset/' + type_lc\n",
    "    list_matrixes_band = []\n",
    "    for lc_folder in os.listdir(directory):\n",
    "        # para que no entre a frequencies_ECL.pkl\n",
    "        if lc_folder.find('.') == -1:\n",
    "            cont += 1\n",
    "            d_lc_folder = os.path.join(directory, lc_folder)\n",
    "            matrixes = pd.read_pickle(d_lc_folder + '/error_matrixes'+ lc_folder + '.pkl')\n",
    "            list_matrixes_band.append(matrixes[band][1])\n",
    "\n",
    "\n",
    "    return cont, list_matrixes_band\n",
    "        \n"
   ]
  },
  {
   "cell_type": "code",
   "execution_count": 129,
   "metadata": {},
   "outputs": [],
   "source": [
    "def matrix_cont(top, max_mult, list_matrixes_band):\n",
    "    matrix_cont = [ [ [] for i in range(2*max_mult-3) ] for j in range(top) ]\n",
    "    for i in range(top):\n",
    "        for j in range(2*max_mult-3):\n",
    "            matrix_cont[i][j] = 0\n",
    "            for lc in list_matrixes_band:\n",
    "                if lc[i][j][1] == True:\n",
    "                    matrix_cont[i][j] += 1\n",
    "    return matrix_cont\n"
   ]
  },
  {
   "cell_type": "code",
   "execution_count": 130,
   "metadata": {},
   "outputs": [],
   "source": [
    "def print_matrix_cont(matrix, top, max_mult, type_lc, band, num_lc):\n",
    "    print(f'Contador donde la tolerancia es True \\ntipo:{type_lc} banda: {band}')\n",
    "    cont_sin_lc = 0\n",
    "    for i in range(top):\n",
    "        print(f'freq ranking {i+1}', end='  ')\n",
    "        for j in range(2*max_mult-3):\n",
    "            porcentaje = matrix[i][j]*(100/num_lc)\n",
    "            print('{:.2f}%'.format(porcentaje), end=\" \")\n",
    "            cont_sin_lc += matrix[i][j]\n",
    "        print()\n",
    "    print('{:.2f}% de las curvas no presentan tolerancia True'.format((num_lc-cont_sin_lc)*100/num_lc))"
   ]
  },
  {
   "cell_type": "code",
   "execution_count": 96,
   "metadata": {},
   "outputs": [
    {
     "name": "stdout",
     "output_type": "stream",
     "text": [
      "En ECL son 1992 curvas en total\n",
      "Contador donde la tolerancia es True \n",
      "tipo:ECL banda: BP\n",
      "freq ranking 1  1.66% 0.00% 0.10% 0.10% 42.47% 1.20% 1.15% \n",
      "freq ranking 2  1.15% 0.25% 0.00% 0.05% 3.92% 1.00% 2.61% \n",
      "freq ranking 3  1.31% 0.15% 0.00% 0.00% 2.21% 0.40% 0.85% \n",
      "freq ranking 4  0.75% 0.05% 0.00% 0.20% 1.91% 0.20% 1.31% \n",
      "freq ranking 5  0.70% 0.10% 0.10% 0.00% 1.61% 0.35% 0.65% \n",
      "freq ranking 6  0.55% 0.05% 0.00% 0.10% 1.36% 0.35% 0.55% \n",
      "freq ranking 7  0.95% 0.05% 0.00% 0.00% 1.26% 0.45% 0.40% \n",
      "freq ranking 8  0.35% 0.05% 0.05% 0.00% 1.10% 0.25% 0.55% \n",
      "freq ranking 9  0.60% 0.05% 0.05% 0.05% 0.95% 0.20% 0.35% \n",
      "freq ranking 10  0.35% 0.05% 0.05% 0.00% 0.90% 0.25% 0.35% \n",
      "18.83% de las curvas no presentan tolerancia True\n"
     ]
    }
   ],
   "source": [
    "top = 10\n",
    "max_mult = 5\n",
    "cont_ECL, list_matrixes_band = list_matrixes('BP', 'ECL')\n",
    "print(f'En ECL son {cont_ECL} curvas en total')\n",
    "matrix_cont = matrix_cont(top, max_mult, list_matrixes_band)\n",
    "print_matrix_cont(matrix_cont, top, max_mult, 'ECL', 'BP', cont_ECL)\n"
   ]
  },
  {
   "cell_type": "code",
   "execution_count": 101,
   "metadata": {},
   "outputs": [
    {
     "name": "stdout",
     "output_type": "stream",
     "text": [
      "Contador donde la tolerancia es True \n",
      "tipo:ECL banda: G\n",
      "freq ranking 1  1.91% 0.10% 0.10% 0.00% 42.32% 0.90% 2.01% \n",
      "freq ranking 2  1.26% 0.15% 0.00% 0.10% 3.71% 0.80% 1.66% \n",
      "freq ranking 3  0.80% 0.15% 0.00% 0.15% 3.06% 0.55% 1.05% \n",
      "freq ranking 4  0.65% 0.05% 0.00% 0.00% 1.76% 0.45% 0.65% \n",
      "freq ranking 5  0.60% 0.00% 0.00% 0.00% 1.26% 0.50% 0.80% \n",
      "freq ranking 6  0.60% 0.05% 0.00% 0.05% 1.31% 0.35% 0.55% \n",
      "freq ranking 7  0.35% 0.00% 0.00% 0.10% 0.95% 0.40% 0.45% \n",
      "freq ranking 8  0.75% 0.00% 0.15% 0.05% 0.85% 0.35% 0.30% \n",
      "freq ranking 9  0.60% 0.15% 0.00% 0.05% 0.95% 0.25% 0.40% \n",
      "freq ranking 10  0.35% 0.05% 0.05% 0.05% 0.60% 0.30% 0.50% \n",
      "20.53% de las curvas no presentan tolerancia True\n"
     ]
    }
   ],
   "source": [
    "cont_ECL, list_matrixes_band = list_matrixes('G', 'ECL')\n",
    "matrix_cont = matrix_cont(top, max_mult, list_matrixes_band)\n",
    "print_matrix_cont(matrix_cont, top, max_mult, 'ECL', 'G', cont_ECL)"
   ]
  },
  {
   "cell_type": "code",
   "execution_count": 106,
   "metadata": {},
   "outputs": [
    {
     "name": "stdout",
     "output_type": "stream",
     "text": [
      "Contador donde la tolerancia es True \n",
      "tipo:ECL banda: RP\n",
      "freq ranking 1  1.66% 0.15% 0.05% 0.10% 42.92% 1.26% 1.51% \n",
      "freq ranking 2  1.41% 0.15% 0.00% 0.05% 4.97% 0.65% 2.61% \n",
      "freq ranking 3  1.05% 0.20% 0.00% 0.05% 2.51% 0.35% 1.00% \n",
      "freq ranking 4  0.95% 0.10% 0.00% 0.10% 1.66% 0.35% 1.00% \n",
      "freq ranking 5  0.65% 0.05% 0.00% 0.15% 1.76% 0.30% 1.05% \n",
      "freq ranking 6  0.55% 0.05% 0.10% 0.00% 1.26% 0.30% 0.70% \n",
      "freq ranking 7  0.65% 0.00% 0.00% 0.00% 1.66% 0.45% 0.50% \n",
      "freq ranking 8  0.60% 0.10% 0.00% 0.05% 0.70% 0.20% 0.55% \n",
      "freq ranking 9  0.30% 0.00% 0.00% 0.05% 1.05% 0.20% 0.55% \n",
      "freq ranking 10  0.20% 0.00% 0.05% 0.00% 0.75% 0.10% 0.55% \n",
      "16.97% de las curvas no presentan tolerancia True\n"
     ]
    }
   ],
   "source": [
    "cont_ECL, list_matrixes_band = list_matrixes('RP', 'ECL')\n",
    "matrix_cont = matrix_cont(top, max_mult, list_matrixes_band)\n",
    "print_matrix_cont(matrix_cont, top, max_mult, 'ECL', 'RP', cont_ECL)"
   ]
  },
  {
   "cell_type": "code",
   "execution_count": 111,
   "metadata": {},
   "outputs": [
    {
     "name": "stdout",
     "output_type": "stream",
     "text": [
      "Contador donde la tolerancia es True \n",
      "tipo:ECL banda: multiband\n",
      "freq ranking 1  2.26% 0.05% 0.15% 0.05% 43.47% 0.85% 1.81% \n",
      "freq ranking 2  1.15% 0.20% 0.00% 0.00% 4.17% 1.10% 1.61% \n",
      "freq ranking 3  0.85% 0.05% 0.00% 0.15% 3.01% 0.50% 1.31% \n",
      "freq ranking 4  0.75% 0.10% 0.00% 0.00% 1.46% 0.35% 0.80% \n",
      "freq ranking 5  0.60% 0.05% 0.00% 0.15% 1.31% 0.40% 0.80% \n",
      "freq ranking 6  0.75% 0.00% 0.00% 0.05% 1.56% 0.25% 0.30% \n",
      "freq ranking 7  0.50% 0.00% 0.00% 0.05% 0.85% 0.30% 0.60% \n",
      "freq ranking 8  0.40% 0.00% 0.10% 0.05% 0.85% 0.45% 0.50% \n",
      "freq ranking 9  0.80% 0.10% 0.05% 0.05% 0.90% 0.15% 0.50% \n",
      "freq ranking 10  0.20% 0.15% 0.05% 0.00% 0.90% 0.15% 0.30% \n",
      "18.57% de las curvas no presentan tolerancia True\n"
     ]
    }
   ],
   "source": [
    "cont_ECL, list_matrixes_band = list_matrixes('multiband', 'ECL')\n",
    "matrix_cont = matrix_cont(top, max_mult, list_matrixes_band)\n",
    "print_matrix_cont(matrix_cont, top, max_mult, 'ECL', 'multiband', cont_ECL)"
   ]
  },
  {
   "cell_type": "code",
   "execution_count": 116,
   "metadata": {},
   "outputs": [
    {
     "name": "stdout",
     "output_type": "stream",
     "text": [
      "En RR son 884 curvas en total\n",
      "Contador donde la tolerancia es True \n",
      "tipo:RR banda: BP\n",
      "freq ranking 1  75.79% 0.00% 0.00% 0.00% 0.23% 0.00% 0.00% \n",
      "freq ranking 2  5.88% 0.00% 0.00% 0.00% 0.00% 0.00% 0.00% \n",
      "freq ranking 3  1.36% 0.00% 0.00% 0.00% 0.11% 0.11% 0.00% \n",
      "freq ranking 4  1.70% 0.00% 0.00% 0.00% 0.68% 0.00% 0.00% \n",
      "freq ranking 5  1.13% 0.00% 0.00% 0.00% 0.11% 0.11% 0.00% \n",
      "freq ranking 6  1.36% 0.00% 0.00% 0.00% 0.23% 0.23% 0.00% \n",
      "freq ranking 7  1.24% 0.00% 0.00% 0.00% 0.00% 0.11% 0.00% \n",
      "freq ranking 8  0.45% 0.11% 0.00% 0.00% 0.11% 0.11% 0.23% \n",
      "freq ranking 9  0.57% 0.00% 0.00% 0.00% 0.23% 0.23% 0.00% \n",
      "freq ranking 10  0.23% 0.00% 0.00% 0.00% 0.23% 0.11% 0.00% \n",
      "7.01% de las curvas no presentan tolerancia True\n"
     ]
    }
   ],
   "source": [
    "cont_RR, list_matrixes_band = list_matrixes('BP', 'RR')\n",
    "print(f'En RR son {cont_RR} curvas en total')\n",
    "matrix_cont = matrix_cont(top, max_mult, list_matrixes_band)\n",
    "print_matrix_cont(matrix_cont, top, max_mult, 'RR', 'BP', cont_RR)"
   ]
  },
  {
   "cell_type": "code",
   "execution_count": 121,
   "metadata": {},
   "outputs": [
    {
     "name": "stdout",
     "output_type": "stream",
     "text": [
      "Contador donde la tolerancia es True \n",
      "tipo:RR banda: G\n",
      "freq ranking 1  92.08% 0.00% 0.00% 0.00% 0.00% 0.00% 0.00% \n",
      "freq ranking 2  2.49% 0.00% 0.00% 0.00% 0.34% 0.11% 0.00% \n",
      "freq ranking 3  0.34% 0.00% 0.00% 0.00% 0.45% 0.11% 0.00% \n",
      "freq ranking 4  0.68% 0.00% 0.00% 0.00% 0.11% 0.11% 0.00% \n",
      "freq ranking 5  0.23% 0.00% 0.00% 0.00% 0.23% 0.00% 0.11% \n",
      "freq ranking 6  0.45% 0.00% 0.00% 0.00% 0.00% 0.00% 0.00% \n",
      "freq ranking 7  0.34% 0.00% 0.00% 0.00% 0.00% 0.00% 0.00% \n",
      "freq ranking 8  0.45% 0.00% 0.00% 0.00% 0.00% 0.00% 0.00% \n",
      "freq ranking 9  0.34% 0.00% 0.00% 0.00% 0.11% 0.00% 0.00% \n",
      "freq ranking 10  0.00% 0.00% 0.00% 0.00% 0.11% 0.00% 0.00% \n",
      "0.79% de las curvas no presentan tolerancia True\n"
     ]
    }
   ],
   "source": [
    "cont_RR, list_matrixes_band = list_matrixes('G', 'RR')\n",
    "matrix_cont = matrix_cont(top, max_mult, list_matrixes_band)\n",
    "print_matrix_cont(matrix_cont, top, max_mult, 'RR', 'G', cont_RR)"
   ]
  },
  {
   "cell_type": "code",
   "execution_count": 126,
   "metadata": {},
   "outputs": [
    {
     "name": "stdout",
     "output_type": "stream",
     "text": [
      "Contador donde la tolerancia es True \n",
      "tipo:RR banda: RP\n",
      "freq ranking 1  72.06% 0.00% 0.00% 0.00% 0.23% 0.11% 0.23% \n",
      "freq ranking 2  6.33% 0.00% 0.00% 0.00% 0.45% 0.00% 0.11% \n",
      "freq ranking 3  1.92% 0.00% 0.00% 0.00% 0.23% 0.00% 0.11% \n",
      "freq ranking 4  1.36% 0.00% 0.00% 0.00% 0.11% 0.11% 0.00% \n",
      "freq ranking 5  1.13% 0.00% 0.00% 0.00% 0.34% 0.23% 0.00% \n",
      "freq ranking 6  0.57% 0.00% 0.00% 0.00% 0.23% 0.11% 0.00% \n",
      "freq ranking 7  1.13% 0.00% 0.00% 0.00% 0.68% 0.00% 0.00% \n",
      "freq ranking 8  1.02% 0.00% 0.00% 0.00% 0.00% 0.11% 0.34% \n",
      "freq ranking 9  0.45% 0.00% 0.00% 0.00% 0.11% 0.45% 0.23% \n",
      "freq ranking 10  0.57% 0.00% 0.00% 0.00% 0.11% 0.23% 0.23% \n",
      "8.37% de las curvas no presentan tolerancia True\n"
     ]
    }
   ],
   "source": [
    "cont_RR, list_matrixes_band = list_matrixes('RP', 'RR')\n",
    "matrix_cont = matrix_cont(top, max_mult, list_matrixes_band)\n",
    "print_matrix_cont(matrix_cont, top, max_mult, 'RR', 'RP',cont_RR)"
   ]
  },
  {
   "cell_type": "code",
   "execution_count": 131,
   "metadata": {},
   "outputs": [
    {
     "name": "stdout",
     "output_type": "stream",
     "text": [
      "Contador donde la tolerancia es True \n",
      "tipo:RR banda: multiband\n",
      "freq ranking 1  92.53% 0.00% 0.00% 0.00% 0.00% 0.00% 0.00% \n",
      "freq ranking 2  2.26% 0.00% 0.00% 0.00% 0.45% 0.00% 0.00% \n",
      "freq ranking 3  0.90% 0.00% 0.00% 0.00% 0.45% 0.23% 0.00% \n",
      "freq ranking 4  0.34% 0.00% 0.00% 0.00% 0.11% 0.11% 0.00% \n",
      "freq ranking 5  0.45% 0.00% 0.00% 0.00% 0.00% 0.00% 0.00% \n",
      "freq ranking 6  0.34% 0.00% 0.00% 0.00% 0.00% 0.00% 0.00% \n",
      "freq ranking 7  0.23% 0.00% 0.00% 0.00% 0.11% 0.00% 0.00% \n",
      "freq ranking 8  0.23% 0.00% 0.00% 0.00% 0.11% 0.11% 0.00% \n",
      "freq ranking 9  0.00% 0.00% 0.00% 0.00% 0.23% 0.00% 0.00% \n",
      "freq ranking 10  0.11% 0.00% 0.00% 0.00% 0.00% 0.11% 0.00% \n",
      "0.57% de las curvas no presentan tolerancia True\n"
     ]
    }
   ],
   "source": [
    "cont_RR, list_matrixes_band = list_matrixes('multiband', 'RR')\n",
    "matrix_cont = matrix_cont(top, max_mult, list_matrixes_band)\n",
    "print_matrix_cont(matrix_cont, top, max_mult, 'RR', 'multiband', cont_RR)"
   ]
  },
  {
   "cell_type": "code",
   "execution_count": null,
   "metadata": {},
   "outputs": [],
   "source": []
  }
 ],
 "metadata": {
  "kernelspec": {
   "display_name": "gaia",
   "language": "python",
   "name": "python3"
  },
  "language_info": {
   "codemirror_mode": {
    "name": "ipython",
    "version": 3
   },
   "file_extension": ".py",
   "mimetype": "text/x-python",
   "name": "python",
   "nbconvert_exporter": "python",
   "pygments_lexer": "ipython3",
   "version": "3.8.18"
  },
  "orig_nbformat": 4,
  "vscode": {
   "interpreter": {
    "hash": "65ff3c344aec772da584c647892069d16784991a17bd61aea89f91260260cd70"
   }
  }
 },
 "nbformat": 4,
 "nbformat_minor": 2
}
