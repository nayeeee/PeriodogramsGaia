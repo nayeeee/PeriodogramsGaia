{
 "cells": [
  {
   "cell_type": "code",
   "execution_count": 1,
   "metadata": {},
   "outputs": [
    {
     "name": "stderr",
     "output_type": "stream",
     "text": [
      "/tmp/ipykernel_6727/1123200335.py:2: DeprecationWarning: \n",
      "Pyarrow will become a required dependency of pandas in the next major release of pandas (pandas 3.0),\n",
      "(to allow more performant data types, such as the Arrow string type, and better interoperability with other libraries)\n",
      "but was not found to be installed on your system.\n",
      "If this would cause problems for you,\n",
      "please provide us feedback at https://github.com/pandas-dev/pandas/issues/54466\n",
      "        \n",
      "  import pandas as pd\n"
     ]
    }
   ],
   "source": [
    "import os\n",
    "import pandas as pd\n",
    "from matplotlib import pyplot as plt\n",
    "import numpy as np\n",
    "import pickle as pkl\n",
    "from astropy.timeseries import LombScargle\n",
    "from astropy.timeseries import LombScargleMultiband"
   ]
  },
  {
   "attachments": {},
   "cell_type": "markdown",
   "metadata": {},
   "source": [
    "### Periodograms"
   ]
  },
  {
   "cell_type": "code",
   "execution_count": 13,
   "metadata": {},
   "outputs": [],
   "source": [
    "data_global = pd.read_pickle(\"../../PeriodogramsGaia/dataset/data_global.pkl\")"
   ]
  },
  {
   "cell_type": "code",
   "execution_count": 11,
   "metadata": {},
   "outputs": [],
   "source": [
    "def periodograms_band(lc,period, d_folder_lc, freq):\n",
    "    times, fluxs, ferrs, bands = [], [], [], []\n",
    "    dict_per = {}\n",
    "    for (name, data) in lc.groupby(\"band\"):\n",
    "        band = data['band'].iloc[0]\n",
    "        mask = data[\"rejected_by_variability\"]==\"false\"\n",
    "        time, flux, flux_err =data.loc[mask][['time', 'flux', 'flux_error']].values.T\n",
    "        per = LombScargle(time, flux, flux_err).power(freq)\n",
    "        dict_per[name] = per\n",
    "        # multiband\n",
    "        times += list(time)\n",
    "        fluxs += list(flux)\n",
    "        ferrs += list(flux_err)\n",
    "        bands += [name]*len(flux)\n",
    "\n",
    "    per = LombScargleMultiband(times, fluxs, bands, ferrs).power(freq)\n",
    "    dict_per['multiband'] = per\n",
    "    with open(d_folder_lc + '/periodograms.pkl', 'wb') as handle:\n",
    "        pkl.dump(dict_per, handle, protocol=pkl.HIGHEST_PROTOCOL)\n",
    "    "
   ]
  },
  {
   "cell_type": "code",
   "execution_count": 20,
   "metadata": {},
   "outputs": [],
   "source": [
    "directory = '../dataset'\n",
    "\n",
    "for folder_type in os.listdir(directory):\n",
    "    #../dataset/ECL\n",
    "    d_folder_type = os.path.join(directory, folder_type)\n",
    "    if folder_type == \"ECL\":\n",
    "        freq = np.arange(0.001473, 2*4.999929 , 1e-4)\n",
    "        with open('../dataset/'+folder_type+'/frequencies_'+folder_type+'.pkl', 'wb') as handle:\n",
    "            pkl.dump(freq, handle, protocol=pkl.HIGHEST_PROTOCOL)\n",
    "    elif folder_type == \"RR\":\n",
    "        freq = np.arange(1.00061, 2*4.973236 , 1e-4)\n",
    "        with open('../dataset/'+folder_type+'/frequencies_'+folder_type+'.pkl', 'wb') as handle:\n",
    "            pkl.dump(freq, handle, protocol=pkl.HIGHEST_PROTOCOL)\n",
    "\n",
    "    # para que no entre en el dataglobal\n",
    "    if folder_type.find('.') == -1:\n",
    "        for folder_lc in os.listdir(d_folder_type):\n",
    "            # para que no entre en el archivo de las freq\n",
    "            if folder_lc.find('.') == -1:\n",
    "                d_folder_lc = os.path.join(d_folder_type, folder_lc)\n",
    "                lc = pd.read_pickle(os.path.join(d_folder_lc, folder_lc+'.pkl'))\n",
    "                name_lc = lc.source_id.iloc[0]\n",
    "                period = data_global[data_global.index == name_lc].values[0][0]\n",
    "                periodograms_band(lc, period,d_folder_lc, freq)"
   ]
  }
 ],
 "metadata": {
  "kernelspec": {
   "display_name": "gaia_n",
   "language": "python",
   "name": "python3"
  },
  "language_info": {
   "codemirror_mode": {
    "name": "ipython",
    "version": 3
   },
   "file_extension": ".py",
   "mimetype": "text/x-python",
   "name": "python",
   "nbconvert_exporter": "python",
   "pygments_lexer": "ipython3",
   "version": "3.12.1"
  },
  "orig_nbformat": 4,
  "vscode": {
   "interpreter": {
    "hash": "8372826fd80c763bf6cbfe4b0dbd91864036f12608c3f0d1cf16fef371790a33"
   }
  }
 },
 "nbformat": 4,
 "nbformat_minor": 2
}
