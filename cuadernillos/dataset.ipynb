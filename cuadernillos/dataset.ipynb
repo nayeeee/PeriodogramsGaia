{
 "cells": [
  {
   "cell_type": "code",
   "execution_count": 2,
   "metadata": {},
   "outputs": [],
   "source": [
    "%matplotlib inline\n",
    "from matplotlib import pyplot as plt\n",
    "import numpy as np\n",
    "import pandas as pd\n",
    "import os\n",
    "\n",
    "from astroquery.gaia import Gaia "
   ]
  },
  {
   "attachments": {},
   "cell_type": "markdown",
   "metadata": {},
   "source": [
    "# DATASET"
   ]
  },
  {
   "attachments": {},
   "cell_type": "markdown",
   "metadata": {},
   "source": [
    "Dataset de ***RR Lyrae*** y de ***Eclipse binaria***:\n",
    "- **N** ejemplos cada uno\n",
    "- periodo de catálogo no nulo\n",
    "- al menos **L** puntos en cada banda\n",
    "- magnitud promedio en banda g menor a **M**."
   ]
  },
  {
   "cell_type": "code",
   "execution_count": 12,
   "metadata": {},
   "outputs": [],
   "source": [
    "def crear_carpeta_dataset(parent_dir, directory):\n",
    "    path = os.path.join(parent_dir, directory)  \n",
    "    os.mkdir(path)\n",
    "    # Lista de directorios\n",
    "    directories = ['ECL', 'RR']\n",
    "\n",
    "    # crea carpetas para cada directories\n",
    "    for directory in directories:\n",
    "        parent_dir = \"../../PeriodogramsGaia/dataset\"\n",
    "        path = os.path.join(parent_dir, directory)  \n",
    "        os.mkdir(path)"
   ]
  },
  {
   "cell_type": "code",
   "execution_count": 13,
   "metadata": {},
   "outputs": [],
   "source": [
    "def consulta(n, star_type, star_list):\n",
    "    star_list_str = \",\".join([\"'{}'\".format(item) for item in star_list])\n",
    "\n",
    "    if star_type == \"vari_rrlyrae\":\n",
    "        # Hace la consulta\n",
    "        query = f\"\"\"\n",
    "        select top {n} *\n",
    "        from gaiadr3.{star_type}\n",
    "        where pf IS NOT NULL AND source_id not in ({star_list_str})\n",
    "        \"\"\"\n",
    "        type_star = \"RR\"\n",
    "    else:\n",
    "        query = f\"\"\"\n",
    "        select top {n} *\n",
    "        from gaiadr3.{star_type}\n",
    "        where frequency IS NOT NULL AND source_id not in ({star_list_str})\n",
    "        order by global_ranking desc\n",
    "        \"\"\"\n",
    "        type_star = \"ECL\"\n",
    "\n",
    "    job = Gaia.launch_job(query)\n",
    "    ids = job.get_results().to_pandas(\"SOURCE_ID\")\n",
    "    \n",
    "    # Extrae las curvas de Gaia DR3\n",
    "    datalink = Gaia.load_data(ids=ids.index, \n",
    "                    data_release='Gaia DR3', \n",
    "                    retrieval_type='EPOCH_PHOTOMETRY', \n",
    "                    format='csv', \n",
    "                    valid_data=False)\n",
    "    \n",
    "    return datalink, type_star"
   ]
  },
  {
   "cell_type": "code",
   "execution_count": 14,
   "metadata": {},
   "outputs": [],
   "source": [
    "def verificar(lc, direct, type_star, L, M):\n",
    "    # Ver que la mascara no de vacia para time, flux y flux_err\n",
    "    mask = lc[\"rejected_by_variability\"]==\"false\"\n",
    "    mask2 = lc[\"rejected_by_variability\"]== False\n",
    "    mask3 = mask | mask2\n",
    "\n",
    "    name = lc.source_id[0]\n",
    "    \n",
    "    lc_1 = lc.loc[mask3]\n",
    "\n",
    "    bands = ['G', 'BP', 'RP']\n",
    "    points_G = points_BP = points_RP = mag_mean_G = 0\n",
    "\n",
    "    if all(band in lc_1[\"band\"].unique() for band in bands):                    \n",
    "        points_G = lc_1.groupby(\"band\").get_group(\"G\").shape[0]\n",
    "        points_BP = lc_1.groupby(\"band\").get_group(\"BP\").shape[0]\n",
    "        points_RP = lc_1.groupby(\"band\").get_group(\"RP\").shape[0]\n",
    "        mag_mean_G = np.mean(lc_1.groupby(\"band\").get_group(\"G\")[\"mag\"])\n",
    "\n",
    "\n",
    "        # Ver si cumple las condiciones de puntos en cada banda, mag promedio en la banda G y que no este repetido. Ademas que la mascara no sea vacia para alguna banda\n",
    "        if ((points_BP >= L) & (points_G >= L) & (points_RP >= L) & (mag_mean_G < M)):\n",
    "            # Creo carpeta para cada lc\n",
    "            parent_dir = os.path.join(direct, type_star)\n",
    "            path = os.path.join(parent_dir, str(name))\n",
    "            # print(parent_dir + \" -> \" + path)\n",
    "            os.mkdir(path) \n",
    "            path_lc = os.path.join(path, str(name)+'.pkl')\n",
    "            lc.to_pickle(path_lc)\n",
    "            \n",
    "            return True, name\n",
    "        \n",
    "        return False, name\n",
    "    \n",
    "    return False, name\n"
   ]
  },
  {
   "cell_type": "code",
   "execution_count": 15,
   "metadata": {},
   "outputs": [],
   "source": [
    "def create_df(type_star, data_global, ids_stars, tabla):\n",
    "    if type_star == \"ECL\":\n",
    "        query = f\"\"\"\n",
    "            select source_id,frequency\n",
    "            from gaiadr3.{tabla}\n",
    "            where source_id IN {tuple(ids_stars)}\n",
    "        \"\"\"\n",
    "        job = Gaia.launch_job(query)\n",
    "        info_star_type = job.get_results().to_pandas(\"SOURCE_ID\")\n",
    "        info_star_type[\"frequency\"] = 1/info_star_type[\"frequency\"]\n",
    "        info_star_type = info_star_type.rename(columns= {\"frequency\":\"pf\"})\n",
    "    else:\n",
    "        query = f\"\"\"\n",
    "            select source_id,pf\n",
    "            from gaiadr3.{tabla}\n",
    "            where source_id IN {tuple(ids_stars)}\n",
    "        \"\"\"\n",
    "        job = Gaia.launch_job(query)\n",
    "        info_star_type = job.get_results().to_pandas(\"SOURCE_ID\")\n",
    "        \n",
    "    info_star_type[\"type\"] = type_star\n",
    "\n",
    "    return pd.concat([data_global,info_star_type])"
   ]
  },
  {
   "cell_type": "code",
   "execution_count": 16,
   "metadata": {},
   "outputs": [],
   "source": [
    "def dataset(N, L, M):\n",
    "\n",
    "    # Crear carpeta dataset\n",
    "    directory = \"dataset\"\n",
    "    parent_dir = \"../../PeriodogramsGaia/\"\n",
    "    path = os.path.join(parent_dir, directory)\n",
    "\n",
    "    crear_carpeta_dataset(parent_dir, directory)\n",
    "\n",
    "    # Crea dataFrame con source_id, periodo y tipo\n",
    "    data_global = pd.DataFrame()\n",
    "\n",
    "    agregados = []\n",
    "    no_agregados = ['0000000000000000000'] # id inicial para que consulta no se caiga\n",
    "\n",
    "    # [\"vari_eclipsing_binary\", \"vari_rrlyrae\"]\n",
    "    for tabla in [\"vari_eclipsing_binary\", \"vari_rrlyrae\"]:\n",
    "        # contador de las ya agregadas\n",
    "        NN = 0\n",
    "        while (NN < N):\n",
    "            # 2000 es el máximo de curvas que retorna\n",
    "            if (N-NN > 2000):\n",
    "                datalink, type_star = consulta(2000, tabla, agregados + no_agregados)\n",
    "            else:    \n",
    "                datalink, type_star = consulta((N-NN), tabla, agregados + no_agregados)\n",
    "            for key, value in datalink.items():\n",
    "                lc = value[0].to_pandas()\n",
    "                es_valido, name = verificar(lc, path, type_star, L, M)\n",
    "                if es_valido:\n",
    "                    agregados.append(name)\n",
    "                    NN += 1\n",
    "                else:\n",
    "                    #print(name)\n",
    "                    no_agregados.append(name)\n",
    "        \n",
    "        # DataFrame con pf, tipo y source_id\n",
    "        data_global = create_df(type_star, data_global, agregados, tabla)\n",
    "\n",
    "    print(all ([agregado in list(data_global.index) for agregado in agregados]))\n",
    "\n",
    "    return data_global"
   ]
  },
  {
   "cell_type": "code",
   "execution_count": 7,
   "metadata": {},
   "outputs": [],
   "source": [
    "def init_dataset():\n",
    "\n",
    "    # Crear carpeta dataset\n",
    "    directory = \"dataset\"\n",
    "    parent_dir = \"../../PeriodogramsGaia/\"\n",
    "    path = os.path.join(parent_dir, directory)\n",
    "\n",
    "    crear_carpeta_dataset(parent_dir, directory)\n",
    "\n",
    "    # Crea dataFrame con source_id, periodo y tipo\n",
    "    data_global = pd.DataFrame()\n",
    "\n",
    "    agregados = []\n",
    "    no_agregados = ['0000000000000000000'] # id inicial para que consulta no se caiga\n",
    "    \n",
    "    return path, data_global, agregados, no_agregados"
   ]
  },
  {
   "cell_type": "code",
   "execution_count": 18,
   "metadata": {},
   "outputs": [],
   "source": [
    "path, data_global, agregados, no_agregados = init_dataset()\n",
    "N = 200000\n",
    "L = 10\n",
    "M = 18"
   ]
  },
  {
   "cell_type": "code",
   "execution_count": null,
   "metadata": {},
   "outputs": [],
   "source": [
    "# [\"vari_eclipsing_binary\", \"vari_rrlyrae\"]\n",
    "for tabla in [\"vari_eclipsing_binary\"]:\n",
    "    while (len(agregados) < N) and (len(no_agregados)+len(agregados)-1 < 271779):\n",
    "        # 2000 es el máximo de curvas que retorna\n",
    "        if (N-len(agregados) > 2000):\n",
    "            datalink, type_star = consulta(2000, tabla, agregados + no_agregados)\n",
    "        else:    \n",
    "            datalink, type_star = consulta((N-len(agregados)), tabla, agregados + no_agregados)\n",
    "        for key, value in datalink.items():\n",
    "            lc = value[0].to_pandas()\n",
    "            es_valido, name = verificar(lc, path, type_star, L, M)\n",
    "            if es_valido:\n",
    "                agregados.append(name)\n",
    "            else:\n",
    "                no_agregados.append(name)"
   ]
  },
  {
   "cell_type": "code",
   "execution_count": null,
   "metadata": {},
   "outputs": [],
   "source": [
    "# DataFrame con pf, tipo y source_id\n",
    "data_global = create_df(type_star, data_global, agregados, tabla)"
   ]
  },
  {
   "cell_type": "code",
   "execution_count": 17,
   "metadata": {},
   "outputs": [
    {
     "name": "stdout",
     "output_type": "stream",
     "text": [
      "True\n"
     ]
    }
   ],
   "source": [
    "data_global = dataset(900,10,18)"
   ]
  },
  {
   "cell_type": "code",
   "execution_count": 18,
   "metadata": {},
   "outputs": [],
   "source": [
    "data_global.to_pickle(\"../../PeriodogramsGaia/dataset/data_global.pkl\")"
   ]
  },
  {
   "cell_type": "code",
   "execution_count": 19,
   "metadata": {},
   "outputs": [
    {
     "data": {
      "text/html": [
       "<div>\n",
       "<style scoped>\n",
       "    .dataframe tbody tr th:only-of-type {\n",
       "        vertical-align: middle;\n",
       "    }\n",
       "\n",
       "    .dataframe tbody tr th {\n",
       "        vertical-align: top;\n",
       "    }\n",
       "\n",
       "    .dataframe thead th {\n",
       "        text-align: right;\n",
       "    }\n",
       "</style>\n",
       "<table border=\"1\" class=\"dataframe\">\n",
       "  <thead>\n",
       "    <tr style=\"text-align: right;\">\n",
       "      <th></th>\n",
       "      <th>pf</th>\n",
       "      <th>type</th>\n",
       "    </tr>\n",
       "    <tr>\n",
       "      <th>SOURCE_ID</th>\n",
       "      <th></th>\n",
       "      <th></th>\n",
       "    </tr>\n",
       "  </thead>\n",
       "  <tbody>\n",
       "    <tr>\n",
       "      <th>30259178472081408</th>\n",
       "      <td>0.900459</td>\n",
       "      <td>ECL</td>\n",
       "    </tr>\n",
       "    <tr>\n",
       "      <th>46008479948911360</th>\n",
       "      <td>0.590689</td>\n",
       "      <td>ECL</td>\n",
       "    </tr>\n",
       "    <tr>\n",
       "      <th>60393566669599744</th>\n",
       "      <td>0.609095</td>\n",
       "      <td>ECL</td>\n",
       "    </tr>\n",
       "    <tr>\n",
       "      <th>130944967216353536</th>\n",
       "      <td>3.021296</td>\n",
       "      <td>ECL</td>\n",
       "    </tr>\n",
       "    <tr>\n",
       "      <th>141075008362446080</th>\n",
       "      <td>0.479051</td>\n",
       "      <td>ECL</td>\n",
       "    </tr>\n",
       "    <tr>\n",
       "      <th>...</th>\n",
       "      <td>...</td>\n",
       "      <td>...</td>\n",
       "    </tr>\n",
       "    <tr>\n",
       "      <th>6070356594053780352</th>\n",
       "      <td>0.460950</td>\n",
       "      <td>RR</td>\n",
       "    </tr>\n",
       "    <tr>\n",
       "      <th>6070357345669486336</th>\n",
       "      <td>0.612006</td>\n",
       "      <td>RR</td>\n",
       "    </tr>\n",
       "    <tr>\n",
       "      <th>6070406170857888384</th>\n",
       "      <td>0.572528</td>\n",
       "      <td>RR</td>\n",
       "    </tr>\n",
       "    <tr>\n",
       "      <th>6070466781433899904</th>\n",
       "      <td>0.779386</td>\n",
       "      <td>RR</td>\n",
       "    </tr>\n",
       "    <tr>\n",
       "      <th>6070488874746288000</th>\n",
       "      <td>0.545755</td>\n",
       "      <td>RR</td>\n",
       "    </tr>\n",
       "  </tbody>\n",
       "</table>\n",
       "<p>1800 rows × 2 columns</p>\n",
       "</div>"
      ],
      "text/plain": [
       "                           pf type\n",
       "SOURCE_ID                         \n",
       "30259178472081408    0.900459  ECL\n",
       "46008479948911360    0.590689  ECL\n",
       "60393566669599744    0.609095  ECL\n",
       "130944967216353536   3.021296  ECL\n",
       "141075008362446080   0.479051  ECL\n",
       "...                       ...  ...\n",
       "6070356594053780352  0.460950   RR\n",
       "6070357345669486336  0.612006   RR\n",
       "6070406170857888384  0.572528   RR\n",
       "6070466781433899904  0.779386   RR\n",
       "6070488874746288000  0.545755   RR\n",
       "\n",
       "[1800 rows x 2 columns]"
      ]
     },
     "execution_count": 19,
     "metadata": {},
     "output_type": "execute_result"
    }
   ],
   "source": [
    "data_global"
   ]
  },
  {
   "cell_type": "code",
   "execution_count": null,
   "metadata": {},
   "outputs": [],
   "source": []
  }
 ],
 "metadata": {
  "kernelspec": {
   "display_name": "gaia",
   "language": "python",
   "name": "python3"
  },
  "language_info": {
   "codemirror_mode": {
    "name": "ipython",
    "version": 3
   },
   "file_extension": ".py",
   "mimetype": "text/x-python",
   "name": "python",
   "nbconvert_exporter": "python",
   "pygments_lexer": "ipython3",
   "version": "3.12.5"
  },
  "orig_nbformat": 4,
  "vscode": {
   "interpreter": {
    "hash": "65ff3c344aec772da584c647892069d16784991a17bd61aea89f91260260cd70"
   }
  }
 },
 "nbformat": 4,
 "nbformat_minor": 2
}
