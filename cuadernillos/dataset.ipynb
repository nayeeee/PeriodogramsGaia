{
 "cells": [
  {
   "cell_type": "code",
   "execution_count": 1,
   "metadata": {},
   "outputs": [
    {
     "name": "stderr",
     "output_type": "stream",
     "text": [
      "/tmp/ipykernel_10338/4046504792.py:4: DeprecationWarning: \n",
      "Pyarrow will become a required dependency of pandas in the next major release of pandas (pandas 3.0),\n",
      "(to allow more performant data types, such as the Arrow string type, and better interoperability with other libraries)\n",
      "but was not found to be installed on your system.\n",
      "If this would cause problems for you,\n",
      "please provide us feedback at https://github.com/pandas-dev/pandas/issues/54466\n",
      "        \n",
      "  import pandas as pd\n"
     ]
    }
   ],
   "source": [
    "%matplotlib inline\n",
    "from matplotlib import pyplot as plt\n",
    "import numpy as np\n",
    "import pandas as pd\n",
    "import os\n",
    "\n",
    "from astroquery.gaia import Gaia "
   ]
  },
  {
   "attachments": {},
   "cell_type": "markdown",
   "metadata": {},
   "source": [
    "# DATASET"
   ]
  },
  {
   "attachments": {},
   "cell_type": "markdown",
   "metadata": {},
   "source": [
    "Dataset de ***RR Lyrae*** y de ***Eclipse binaria***:\n",
    "- **N** ejemplos cada uno\n",
    "- periodo de catálogo no nulo\n",
    "- al menos **L** puntos en cada banda\n",
    "- magnitud promedio en banda g menor a **M**."
   ]
  },
  {
   "cell_type": "code",
   "execution_count": 2,
   "metadata": {},
   "outputs": [],
   "source": [
    "def crear_carpeta_dataset(parent_dir, directory):\n",
    "    path = os.path.join(parent_dir, directory)  \n",
    "    os.mkdir(path)\n",
    "    # Lista de directorios\n",
    "    directories = ['ECL', 'RR']\n",
    "\n",
    "    # crea carpetas para cada directories\n",
    "    for directory in directories:\n",
    "        parent_dir = \"../../PeriodogramsGaia/dataset\"\n",
    "        path = os.path.join(parent_dir, directory)  \n",
    "        os.mkdir(path)"
   ]
  },
  {
   "cell_type": "code",
   "execution_count": 3,
   "metadata": {},
   "outputs": [],
   "source": [
    "def consulta(n, star_type, star_list):\n",
    "    star_list_str = \",\".join([\"'{}'\".format(item) for item in star_list])\n",
    "\n",
    "    if star_type == \"vari_rrlyrae\":\n",
    "        # Hace la consulta\n",
    "        query = f\"\"\"\n",
    "        select top {n} *\n",
    "        from gaiadr3.{star_type}\n",
    "        where pf IS NOT NULL AND source_id not in ({star_list_str})\n",
    "        \"\"\"\n",
    "        type_star = \"RR\"\n",
    "    else:\n",
    "        query = f\"\"\"\n",
    "        select top {n} *\n",
    "        from gaiadr3.{star_type}\n",
    "        where frequency IS NOT NULL AND source_id not in ({star_list_str})\n",
    "        order by global_ranking desc\n",
    "        \"\"\"\n",
    "        type_star = \"ECL\"\n",
    "\n",
    "    job = Gaia.launch_job(query)\n",
    "    ids = job.get_results().to_pandas(\"source_id\")\n",
    "    \n",
    "    # Extrae las curvas de Gaia DR3\n",
    "    datalink = Gaia.load_data(ids=ids.index, \n",
    "                    data_release='Gaia DR3', \n",
    "                    retrieval_type='EPOCH_PHOTOMETRY', \n",
    "                    format='csv', \n",
    "                    valid_data=False)\n",
    "    \n",
    "    return datalink, type_star"
   ]
  },
  {
   "cell_type": "code",
   "execution_count": 4,
   "metadata": {},
   "outputs": [],
   "source": [
    "def verificar(lc, direct, type_star, L, M):\n",
    "    # Ver que la mascara no de vacia para time, flux y flux_err\n",
    "    mask = lc[\"rejected_by_variability\"]==\"false\"\n",
    "    mask2 = lc[\"rejected_by_variability\"]== False\n",
    "    mask3 = mask | mask2\n",
    "\n",
    "    name = lc.source_id[0]\n",
    "    \n",
    "    lc_1 = lc.loc[mask3]\n",
    "\n",
    "    bands = ['G', 'BP', 'RP']\n",
    "    points_G = points_BP = points_RP = mag_mean_G = 0\n",
    "\n",
    "    if all(band in lc_1[\"band\"].unique() for band in bands):                    \n",
    "        points_G = lc_1.groupby(\"band\").get_group(\"G\").shape[0]\n",
    "        points_BP = lc_1.groupby(\"band\").get_group(\"BP\").shape[0]\n",
    "        points_RP = lc_1.groupby(\"band\").get_group(\"RP\").shape[0]\n",
    "        mag_mean_G = np.mean(lc_1.groupby(\"band\").get_group(\"G\")[\"mag\"])\n",
    "\n",
    "\n",
    "        # Ver si cumple las condiciones de puntos en cada banda, mag promedio en la banda G y que no este repetido. Ademas que la mascara no sea vacia para alguna banda\n",
    "        if ((points_BP >= L) & (points_G >= L) & (points_RP >= L) & (mag_mean_G < M)):\n",
    "            # Creo carpeta para cada lc\n",
    "            parent_dir = os.path.join(direct, type_star)\n",
    "            path = os.path.join(parent_dir, str(name))\n",
    "            # print(parent_dir + \" -> \" + path)\n",
    "            os.mkdir(path) \n",
    "            path_lc = os.path.join(path, str(name)+'.pkl')\n",
    "            lc.to_pickle(path_lc)\n",
    "            \n",
    "            return True, name\n",
    "        \n",
    "        return False, name\n",
    "    \n",
    "    return False, name\n"
   ]
  },
  {
   "cell_type": "code",
   "execution_count": 5,
   "metadata": {},
   "outputs": [],
   "source": [
    "def create_df(type_star, data_global, ids_stars, tabla):\n",
    "    if type_star == \"ECL\":\n",
    "        query = f\"\"\"\n",
    "            select source_id,frequency\n",
    "            from gaiadr3.{tabla}\n",
    "            where source_id IN {tuple(ids_stars)}\n",
    "        \"\"\"\n",
    "        job = Gaia.launch_job(query)\n",
    "        info_star_type = job.get_results().to_pandas(\"source_id\")\n",
    "        info_star_type[\"frequency\"] = 1/info_star_type[\"frequency\"]\n",
    "        info_star_type = info_star_type.rename(columns= {\"frequency\":\"pf\"})\n",
    "    else:\n",
    "        query = f\"\"\"\n",
    "            select source_id,pf\n",
    "            from gaiadr3.{tabla}\n",
    "            where source_id IN {tuple(ids_stars)}\n",
    "        \"\"\"\n",
    "        job = Gaia.launch_job(query)\n",
    "        info_star_type = job.get_results().to_pandas(\"source_id\")\n",
    "        \n",
    "    info_star_type[\"type\"] = type_star\n",
    "\n",
    "    return pd.concat([data_global,info_star_type])"
   ]
  },
  {
   "cell_type": "code",
   "execution_count": 6,
   "metadata": {},
   "outputs": [],
   "source": [
    "def dataset(N, L, M):\n",
    "\n",
    "    # Crear carpeta dataset\n",
    "    directory = \"dataset\"\n",
    "    parent_dir = \"../../PeriodogramsGaia/\"\n",
    "    path = os.path.join(parent_dir, directory)\n",
    "\n",
    "    crear_carpeta_dataset(parent_dir, directory)\n",
    "\n",
    "    # Crea dataFrame con source_id, periodo y tipo\n",
    "    data_global = pd.DataFrame()\n",
    "\n",
    "    agregados = []\n",
    "    no_agregados = ['0000000000000000000'] # id inicial para que consulta no se caiga\n",
    "\n",
    "    for tabla in [\"vari_eclipsing_binary\", \"vari_rrlyrae\"]:\n",
    "        NN = 0\n",
    "        while (NN < N):\n",
    "            datalink, type_star = consulta((N-NN), tabla, agregados + no_agregados)\n",
    "            for key, value in datalink.items():\n",
    "                lc = value[0].to_pandas()\n",
    "                es_valido, name = verificar(lc, path, type_star, L, M)\n",
    "                if es_valido:\n",
    "                    agregados.append(name)\n",
    "                    NN += 1\n",
    "                else:\n",
    "                    #print(name)\n",
    "                    no_agregados.append(name)\n",
    "      \n",
    "        # DataFrame con pf, tipo y source_id\n",
    "        data_global = create_df(type_star, data_global, agregados, tabla)\n",
    "\n",
    "    print(all ([agregado in list(data_global.index) for agregado in agregados]))\n",
    "\n",
    "    return data_global"
   ]
  },
  {
   "cell_type": "code",
   "execution_count": 7,
   "metadata": {},
   "outputs": [
    {
     "name": "stdout",
     "output_type": "stream",
     "text": [
      "True\n"
     ]
    }
   ],
   "source": [
    "data_global = dataset(100,10,18)"
   ]
  },
  {
   "cell_type": "code",
   "execution_count": 8,
   "metadata": {},
   "outputs": [],
   "source": [
    "data_global.to_pickle(\"../../PeriodogramsGaia/dataset/data_global.pkl\")"
   ]
  },
  {
   "cell_type": "code",
   "execution_count": 9,
   "metadata": {},
   "outputs": [
    {
     "data": {
      "text/html": [
       "<div>\n",
       "<style scoped>\n",
       "    .dataframe tbody tr th:only-of-type {\n",
       "        vertical-align: middle;\n",
       "    }\n",
       "\n",
       "    .dataframe tbody tr th {\n",
       "        vertical-align: top;\n",
       "    }\n",
       "\n",
       "    .dataframe thead th {\n",
       "        text-align: right;\n",
       "    }\n",
       "</style>\n",
       "<table border=\"1\" class=\"dataframe\">\n",
       "  <thead>\n",
       "    <tr style=\"text-align: right;\">\n",
       "      <th></th>\n",
       "      <th>pf</th>\n",
       "      <th>type</th>\n",
       "    </tr>\n",
       "    <tr>\n",
       "      <th>source_id</th>\n",
       "      <th></th>\n",
       "      <th></th>\n",
       "    </tr>\n",
       "  </thead>\n",
       "  <tbody>\n",
       "    <tr>\n",
       "      <th>184457373509254272</th>\n",
       "      <td>3.406982</td>\n",
       "      <td>ECL</td>\n",
       "    </tr>\n",
       "    <tr>\n",
       "      <th>187514458214460928</th>\n",
       "      <td>0.689039</td>\n",
       "      <td>ECL</td>\n",
       "    </tr>\n",
       "    <tr>\n",
       "      <th>193720243577690880</th>\n",
       "      <td>3.335009</td>\n",
       "      <td>ECL</td>\n",
       "    </tr>\n",
       "    <tr>\n",
       "      <th>204067060310941696</th>\n",
       "      <td>1.849591</td>\n",
       "      <td>ECL</td>\n",
       "    </tr>\n",
       "    <tr>\n",
       "      <th>251636125219970816</th>\n",
       "      <td>0.426586</td>\n",
       "      <td>ECL</td>\n",
       "    </tr>\n",
       "    <tr>\n",
       "      <th>...</th>\n",
       "      <td>...</td>\n",
       "      <td>...</td>\n",
       "    </tr>\n",
       "    <tr>\n",
       "      <th>6061643754695131008</th>\n",
       "      <td>0.730192</td>\n",
       "      <td>RR</td>\n",
       "    </tr>\n",
       "    <tr>\n",
       "      <th>6061651004600021888</th>\n",
       "      <td>0.498657</td>\n",
       "      <td>RR</td>\n",
       "    </tr>\n",
       "    <tr>\n",
       "      <th>6061675365655690624</th>\n",
       "      <td>0.474386</td>\n",
       "      <td>RR</td>\n",
       "    </tr>\n",
       "    <tr>\n",
       "      <th>6061700551345078912</th>\n",
       "      <td>0.652145</td>\n",
       "      <td>RR</td>\n",
       "    </tr>\n",
       "    <tr>\n",
       "      <th>6061867986376466688</th>\n",
       "      <td>0.766155</td>\n",
       "      <td>RR</td>\n",
       "    </tr>\n",
       "  </tbody>\n",
       "</table>\n",
       "<p>200 rows × 2 columns</p>\n",
       "</div>"
      ],
      "text/plain": [
       "                           pf type\n",
       "source_id                         \n",
       "184457373509254272   3.406982  ECL\n",
       "187514458214460928   0.689039  ECL\n",
       "193720243577690880   3.335009  ECL\n",
       "204067060310941696   1.849591  ECL\n",
       "251636125219970816   0.426586  ECL\n",
       "...                       ...  ...\n",
       "6061643754695131008  0.730192   RR\n",
       "6061651004600021888  0.498657   RR\n",
       "6061675365655690624  0.474386   RR\n",
       "6061700551345078912  0.652145   RR\n",
       "6061867986376466688  0.766155   RR\n",
       "\n",
       "[200 rows x 2 columns]"
      ]
     },
     "execution_count": 9,
     "metadata": {},
     "output_type": "execute_result"
    }
   ],
   "source": [
    "data_global"
   ]
  },
  {
   "cell_type": "code",
   "execution_count": null,
   "metadata": {},
   "outputs": [],
   "source": []
  }
 ],
 "metadata": {
  "kernelspec": {
   "display_name": "gaia_n",
   "language": "python",
   "name": "python3"
  },
  "language_info": {
   "codemirror_mode": {
    "name": "ipython",
    "version": 3
   },
   "file_extension": ".py",
   "mimetype": "text/x-python",
   "name": "python",
   "nbconvert_exporter": "python",
   "pygments_lexer": "ipython3",
   "version": "3.12.1"
  },
  "orig_nbformat": 4,
  "vscode": {
   "interpreter": {
    "hash": "8372826fd80c763bf6cbfe4b0dbd91864036f12608c3f0d1cf16fef371790a33"
   }
  }
 },
 "nbformat": 4,
 "nbformat_minor": 2
}
