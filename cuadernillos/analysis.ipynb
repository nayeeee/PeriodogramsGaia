{
 "cells": [
  {
   "cell_type": "code",
   "execution_count": 3,
   "metadata": {},
   "outputs": [
    {
     "name": "stderr",
     "output_type": "stream",
     "text": [
      "/tmp/ipykernel_26952/3601469004.py:2: DeprecationWarning: \n",
      "Pyarrow will become a required dependency of pandas in the next major release of pandas (pandas 3.0),\n",
      "(to allow more performant data types, such as the Arrow string type, and better interoperability with other libraries)\n",
      "but was not found to be installed on your system.\n",
      "If this would cause problems for you,\n",
      "please provide us feedback at https://github.com/pandas-dev/pandas/issues/54466\n",
      "        \n",
      "  import pandas as pd\n"
     ]
    }
   ],
   "source": [
    "import os\n",
    "import pandas as pd\n",
    "import numpy as np\n",
    "import pickle as pkl"
   ]
  },
  {
   "cell_type": "code",
   "execution_count": 6,
   "metadata": {},
   "outputs": [],
   "source": [
    "def sort_periodogram(per):\n",
    "    local_maxima = np.where((per[1:-1] > per[:-2]) & (per[1:-1] > per[2:]))[0] + 1\n",
    "    idx_highest = local_maxima[np.argsort(per[local_maxima])[::-1]]\n",
    "    return idx_highest"
   ]
  },
  {
   "cell_type": "code",
   "execution_count": 7,
   "metadata": {},
   "outputs": [],
   "source": [
    "def top_frequencies(top, idx_highest, freq):\n",
    "    frequencies = [freq[i] for i in idx_highest]\n",
    "    return frequencies[:top]"
   ]
  },
  {
   "cell_type": "code",
   "execution_count": 8,
   "metadata": {},
   "outputs": [],
   "source": [
    "# tamaño max-1 + max-2\n",
    "def generator_multiples(max):\n",
    "    mult = np.concatenate([np.arange(1, max, 1), # multiples\n",
    "                                1./np.arange(2, max, 1)]) # submultiples\n",
    "    return mult"
   ]
  },
  {
   "cell_type": "code",
   "execution_count": 9,
   "metadata": {},
   "outputs": [],
   "source": [
    "def relative_error(observed, actual):\n",
    "    return np.absolute((observed - actual)/actual)"
   ]
  },
  {
   "cell_type": "code",
   "execution_count": 10,
   "metadata": {},
   "outputs": [],
   "source": [
    "def matrix_band(frequencies_ranking, max, top, period, tol,multiples):\n",
    "    matrix = [ [ [] for i in range(2*max-3) ] for j in range(top) ]\n",
    "    for i in range(len(frequencies_ranking)):\n",
    "        for j in range(len(multiples)):\n",
    "            error = relative_error(1/(frequencies_ranking[i]*multiples[j]), period)\n",
    "            tol_bool = error<tol\n",
    "            matrix[i][j] = [error, tol_bool]\n",
    "    return matrix"
   ]
  },
  {
   "cell_type": "code",
   "execution_count": 11,
   "metadata": {},
   "outputs": [],
   "source": [
    "directory = '../dataset'\n",
    "max_mult = 5\n",
    "top = 10\n",
    "tol = 1e-2\n",
    "multiples = generator_multiples(max_mult)\n",
    "data_global = pd.read_pickle('../dataset/data_global.pkl')\n",
    "for folder_type in os.listdir(directory):\n",
    "    # d_folder_type = \n",
    "    d_folder_type = os.path.join(directory, folder_type)\n",
    "    # folder_type = 'ECL' 'RR'\n",
    "    if folder_type.find('.') == -1:\n",
    "        freq = pd.read_pickle('../dataset/'+folder_type+'/frequencies_'+folder_type+'.pkl')\n",
    "        #lc_folder = '530580438478016768'\n",
    "        for lc_folder in os.listdir(d_folder_type):\n",
    "            # porque esta frequencies_ECL.pkl\n",
    "            if lc_folder.find('.') == -1:\n",
    "                # d_lc_folder\n",
    "                dict_matrix = {}\n",
    "                dict_matrix['multiples'] = multiples\n",
    "                period = data_global[data_global.index == int(lc_folder)].values[0][0]\n",
    "                d_lc_folder = os.path.join(d_folder_type,lc_folder)\n",
    "                d_periodograms = os.path.join(d_lc_folder, 'periodograms.pkl')\n",
    "                dict_periodograms = pd.read_pickle(d_periodograms)\n",
    "                for band in dict_periodograms.keys():\n",
    "                    per = dict_periodograms[band]\n",
    "                    idx_highest = sort_periodogram(per)\n",
    "                    freq_ranking = top_frequencies(top, idx_highest,freq)\n",
    "                    matrix = matrix_band(freq_ranking,max_mult,top,period,tol, multiples)\n",
    "                    dict_matrix[band] = [freq_ranking, matrix]\n",
    "                with open(d_lc_folder+'/error_matrixes'+lc_folder+'.pkl', 'wb') as handle:\n",
    "                    pkl.dump(dict_matrix, handle, protocol=pkl.HIGHEST_PROTOCOL)\n",
    "\n",
    "        \n"
   ]
  },
  {
   "cell_type": "code",
   "execution_count": null,
   "metadata": {},
   "outputs": [],
   "source": []
  },
  {
   "cell_type": "code",
   "execution_count": 12,
   "metadata": {},
   "outputs": [],
   "source": [
    "def print_matrix(dict_matrix):\n",
    "    print('Multiples: ', dict_matrix['multiples'])\n",
    "    "
   ]
  },
  {
   "cell_type": "code",
   "execution_count": 24,
   "metadata": {},
   "outputs": [],
   "source": [
    "def print_matrix(matrix, top, max, freq_ranking):\n",
    "    for i in range(top):\n",
    "        print(f'freq ranking {i+1}: {freq_ranking[i]:0.4f}', end='  ')\n",
    "        for j in range(2*max-3):\n",
    "            \n",
    "            print(f\"[{matrix[i][j][0]:0.4f}, {matrix[i][j][1]}]\", end=\" \")\n",
    "        print()"
   ]
  },
  {
   "cell_type": "code",
   "execution_count": 29,
   "metadata": {},
   "outputs": [
    {
     "name": "stdout",
     "output_type": "stream",
     "text": [
      "Multiples:  [1.         2.         3.         4.         0.5        0.33333333\n",
      " 0.25      ]\n",
      "Band: BP\n",
      "freq ranking 1: 1.2902  [0.7725, False] [0.8862, False] [0.9242, False] [0.9431, False] [0.5450, False] [0.3175, False] [0.0900, False] \n",
      "freq ranking 2: 0.7261  [0.5958, False] [0.7979, False] [0.8653, False] [0.8989, False] [0.1915, False] [0.2127, False] [0.6170, False] \n",
      "freq ranking 3: 0.3116  [0.0580, False] [0.5290, False] [0.6860, False] [0.7645, False] [0.8841, False] [1.8261, False] [2.7682, False] \n",
      "freq ranking 4: 1.0533  [0.7213, False] [0.8607, False] [0.9071, False] [0.9303, False] [0.4427, False] [0.1640, False] [0.1147, False] \n",
      "freq ranking 5: 0.3701  [0.2069, False] [0.6034, False] [0.7356, False] [0.8017, False] [0.5863, False] [1.3794, False] [2.1725, False] \n",
      "freq ranking 6: 1.9733  [0.8513, False] [0.9256, False] [0.9504, False] [0.9628, False] [0.7025, False] [0.5538, False] [0.4050, False] \n",
      "freq ranking 7: 0.8809  [0.6668, False] [0.8334, False] [0.8889, False] [0.9167, False] [0.3336, False] [0.0004, True] [0.3328, False] \n",
      "freq ranking 8: 1.0602  [0.7231, False] [0.8616, False] [0.9077, False] [0.9308, False] [0.4463, False] [0.1694, False] [0.1074, False] \n",
      "freq ranking 9: 0.0643  [3.5667, False] [1.2833, False] [0.5222, False] [0.1417, False] [8.1334, False] [12.7001, False] [17.2668, False] \n",
      "freq ranking 10: 1.6392  [0.8209, False] [0.9105, False] [0.9403, False] [0.9552, False] [0.6419, False] [0.4628, False] [0.2837, False] \n",
      "Band: G\n",
      "freq ranking 1: 0.3701  [0.2069, False] [0.6034, False] [0.7356, False] [0.8017, False] [0.5863, False] [1.3794, False] [2.1725, False] \n",
      "freq ranking 2: 0.3116  [0.0580, False] [0.5290, False] [0.6860, False] [0.7645, False] [0.8841, False] [1.8261, False] [2.7682, False] \n",
      "freq ranking 3: 0.7261  [0.5958, False] [0.7979, False] [0.8653, False] [0.8989, False] [0.1915, False] [0.2127, False] [0.6170, False] \n",
      "freq ranking 4: 1.6227  [0.8191, False] [0.9096, False] [0.9397, False] [0.9548, False] [0.6382, False] [0.4573, False] [0.2765, False] \n",
      "freq ranking 5: 1.2151  [0.7584, False] [0.8792, False] [0.9195, False] [0.9396, False] [0.5169, False] [0.2753, False] [0.0338, False] \n",
      "freq ranking 6: 3.2911  [0.9108, False] [0.9554, False] [0.9703, False] [0.9777, False] [0.8216, False] [0.7324, False] [0.6433, False] \n",
      "freq ranking 7: 0.6458  [0.5455, False] [0.7727, False] [0.8485, False] [0.8864, False] [0.0910, False] [0.3636, False] [0.8181, False] \n",
      "freq ranking 8: 1.1354  [0.7415, False] [0.8707, False] [0.9138, False] [0.9354, False] [0.4830, False] [0.2244, False] [0.0341, False] \n",
      "freq ranking 9: 0.7722  [0.6199, False] [0.8099, False] [0.8733, False] [0.9050, False] [0.2398, False] [0.1403, False] [0.5205, False] \n",
      "freq ranking 10: 1.0533  [0.7213, False] [0.8607, False] [0.9071, False] [0.9303, False] [0.4427, False] [0.1640, False] [0.1147, False] \n"
     ]
    }
   ],
   "source": [
    "name = '184457373509254272'\n",
    "dict_matrix = pd.read_pickle('../dataset/ECL/'+name+'/error_matrixes'+name+'.pkl')\n",
    "print('Multiples: ', dict_matrix['multiples'])\n",
    "for band in ['BP', 'G']:\n",
    "    if band != 'multiples':\n",
    "        print('Band: '+band)\n",
    "        matrix = dict_matrix[band][1]\n",
    "        freq_ranking = dict_matrix[band][0]\n",
    "        print_matrix(matrix,top,max_mult,freq_ranking)\n"
   ]
  },
  {
   "cell_type": "code",
   "execution_count": 30,
   "metadata": {},
   "outputs": [
    {
     "name": "stdout",
     "output_type": "stream",
     "text": [
      "Band: RP\n",
      "freq ranking 1: 1.2902  [0.7725, False] [0.8862, False] [0.9242, False] [0.9431, False] [0.5450, False] [0.3175, False] [0.0900, False] \n",
      "freq ranking 2: 0.7261  [0.5958, False] [0.7979, False] [0.8653, False] [0.8989, False] [0.1915, False] [0.2127, False] [0.6170, False] \n",
      "freq ranking 3: 1.0533  [0.7213, False] [0.8607, False] [0.9071, False] [0.9303, False] [0.4427, False] [0.1640, False] [0.1147, False] \n",
      "freq ranking 4: 0.3116  [0.0580, False] [0.5290, False] [0.6860, False] [0.7645, False] [0.8841, False] [1.8261, False] [2.7682, False] \n",
      "freq ranking 5: 1.9732  [0.8512, False] [0.9256, False] [0.9504, False] [0.9628, False] [0.7025, False] [0.5537, False] [0.4050, False] \n",
      "freq ranking 6: 0.3700  [0.2067, False] [0.6033, False] [0.7356, False] [0.8017, False] [0.5867, False] [1.3800, False] [2.1734, False] \n",
      "freq ranking 7: 0.8809  [0.6668, False] [0.8334, False] [0.8889, False] [0.9167, False] [0.3336, False] [0.0004, True] [0.3328, False] \n",
      "freq ranking 8: 1.6392  [0.8209, False] [0.9105, False] [0.9403, False] [0.9552, False] [0.6419, False] [0.4628, False] [0.2837, False] \n",
      "freq ranking 9: 1.0602  [0.7231, False] [0.8616, False] [0.9077, False] [0.9308, False] [0.4463, False] [0.1694, False] [0.1074, False] \n",
      "freq ranking 10: 2.0316  [0.8555, False] [0.9278, False] [0.9518, False] [0.9639, False] [0.7110, False] [0.5666, False] [0.4221, False] \n",
      "Band: multiband\n",
      "freq ranking 1: 0.3701  [0.2069, False] [0.6034, False] [0.7356, False] [0.8017, False] [0.5863, False] [1.3794, False] [2.1725, False] \n",
      "freq ranking 2: 0.3116  [0.0580, False] [0.5290, False] [0.6860, False] [0.7645, False] [0.8841, False] [1.8261, False] [2.7682, False] \n",
      "freq ranking 3: 0.7261  [0.5958, False] [0.7979, False] [0.8653, False] [0.8989, False] [0.1915, False] [0.2127, False] [0.6170, False] \n",
      "freq ranking 4: 1.0533  [0.7213, False] [0.8607, False] [0.9071, False] [0.9303, False] [0.4427, False] [0.1640, False] [0.1147, False] \n",
      "freq ranking 5: 1.6227  [0.8191, False] [0.9096, False] [0.9397, False] [0.9548, False] [0.6382, False] [0.4573, False] [0.2765, False] \n",
      "freq ranking 6: 1.2151  [0.7584, False] [0.8792, False] [0.9195, False] [0.9396, False] [0.5169, False] [0.2753, False] [0.0338, False] \n",
      "freq ranking 7: 0.6458  [0.5455, False] [0.7727, False] [0.8485, False] [0.8864, False] [0.0910, False] [0.3636, False] [0.8181, False] \n",
      "freq ranking 8: 0.7722  [0.6199, False] [0.8099, False] [0.8733, False] [0.9050, False] [0.2398, False] [0.1403, False] [0.5205, False] \n",
      "freq ranking 9: 3.2911  [0.9108, False] [0.9554, False] [0.9703, False] [0.9777, False] [0.8216, False] [0.7324, False] [0.6433, False] \n",
      "freq ranking 10: 1.0602  [0.7231, False] [0.8616, False] [0.9077, False] [0.9308, False] [0.4463, False] [0.1694, False] [0.1074, False] \n"
     ]
    }
   ],
   "source": [
    "for band in ['RP', 'multiband']:\n",
    "    if band != 'multiples':\n",
    "        print('Band: '+band)\n",
    "        matrix = dict_matrix[band][1]\n",
    "        freq_ranking = dict_matrix[band][0]\n",
    "        print_matrix(matrix,top,max_mult,freq_ranking)"
   ]
  },
  {
   "cell_type": "code",
   "execution_count": 40,
   "metadata": {},
   "outputs": [],
   "source": [
    "dict_matrix = {'multiples': [],\n",
    "    'BP': [freq_ranking, matrix],\n",
    "    'G': [freq_ranking, matrix],\n",
    "    'RG': [freq_ranking, matrix],\n",
    "    'multiband': [freq_ranking, matrix]\n",
    "}"
   ]
  }
 ],
 "metadata": {
  "kernelspec": {
   "display_name": "gaia_n",
   "language": "python",
   "name": "python3"
  },
  "language_info": {
   "codemirror_mode": {
    "name": "ipython",
    "version": 3
   },
   "file_extension": ".py",
   "mimetype": "text/x-python",
   "name": "python",
   "nbconvert_exporter": "python",
   "pygments_lexer": "ipython3",
   "version": "3.12.1"
  },
  "orig_nbformat": 4,
  "vscode": {
   "interpreter": {
    "hash": "8372826fd80c763bf6cbfe4b0dbd91864036f12608c3f0d1cf16fef371790a33"
   }
  }
 },
 "nbformat": 4,
 "nbformat_minor": 2
}
