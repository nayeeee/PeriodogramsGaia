{
 "cells": [
  {
   "cell_type": "code",
   "execution_count": 1,
   "metadata": {},
   "outputs": [],
   "source": [
    "import os\n",
    "import pandas as pd\n",
    "import numpy as np\n",
    "import pickle as pkl"
   ]
  },
  {
   "cell_type": "code",
   "execution_count": 2,
   "metadata": {},
   "outputs": [],
   "source": [
    "def sort_periodogram(per):\n",
    "    local_maxima = np.where((per[1:-1] > per[:-2]) & (per[1:-1] > per[2:]))[0] + 1\n",
    "    idx_highest = local_maxima[np.argsort(per[local_maxima])[::-1]]\n",
    "    return idx_highest"
   ]
  },
  {
   "cell_type": "code",
   "execution_count": 3,
   "metadata": {},
   "outputs": [],
   "source": [
    "def top_frequencies(top, idx_highest, freq):\n",
    "    frequencies = [freq[i] for i in idx_highest]\n",
    "    return frequencies[:top]"
   ]
  },
  {
   "cell_type": "code",
   "execution_count": 4,
   "metadata": {},
   "outputs": [],
   "source": [
    "# tamaño max-1 + max-2\n",
    "def generator_multiples(max):\n",
    "    mult = np.concatenate([np.arange(1, max, 1), # multiples\n",
    "                                1./np.arange(2, max, 1)]) # submultiples\n",
    "    return mult"
   ]
  },
  {
   "cell_type": "code",
   "execution_count": 5,
   "metadata": {},
   "outputs": [],
   "source": [
    "def relative_error(observed, actual):\n",
    "    return np.absolute((observed - actual)/actual)"
   ]
  },
  {
   "cell_type": "code",
   "execution_count": 6,
   "metadata": {},
   "outputs": [],
   "source": [
    "def matrix_band(frequencies_ranking, max, top, period, tol,multiples):\n",
    "    matrix = [ [ [] for i in range(2*max-3) ] for j in range(top) ]\n",
    "    for i in range(len(frequencies_ranking)):\n",
    "        for j in range(len(multiples)):\n",
    "            error = relative_error(1/(frequencies_ranking[i]*multiples[j]), period)\n",
    "            tol_bool = error<tol\n",
    "            matrix[i][j] = [error, tol_bool]\n",
    "    return matrix"
   ]
  },
  {
   "cell_type": "code",
   "execution_count": 7,
   "metadata": {},
   "outputs": [],
   "source": [
    "directory = '../dataset'\n",
    "max_mult = 5\n",
    "top = 10\n",
    "tol = 1e-2\n",
    "multiples = generator_multiples(max_mult)\n",
    "data_global = pd.read_pickle('../dataset/data_global.pkl')\n",
    "for folder_type in os.listdir(directory):\n",
    "    # d_folder_type = \n",
    "    d_folder_type = os.path.join(directory, folder_type)\n",
    "    # folder_type = 'ECL' 'RR'\n",
    "    if folder_type.find('.') == -1:\n",
    "        freq = pd.read_pickle('../dataset/'+folder_type+'/frequencies_'+folder_type+'.pkl')\n",
    "        #lc_folder = '530580438478016768'\n",
    "        for lc_folder in os.listdir(d_folder_type):\n",
    "            # porque esta frequencies_ECL.pkl\n",
    "            if lc_folder.find('.') == -1:\n",
    "                # d_lc_folder\n",
    "                dict_matrix = {}\n",
    "                dict_matrix['multiples'] = multiples\n",
    "                period = data_global[data_global.index == int(lc_folder)].values[0][0]\n",
    "                d_lc_folder = os.path.join(d_folder_type,lc_folder)\n",
    "                d_periodograms = os.path.join(d_lc_folder, 'periodograms.pkl')\n",
    "                dict_periodograms = pd.read_pickle(d_periodograms)\n",
    "                for band in dict_periodograms.keys():\n",
    "                    per = dict_periodograms[band]\n",
    "                    idx_highest = sort_periodogram(per)\n",
    "                    freq_ranking = top_frequencies(top, idx_highest,freq)\n",
    "                    matrix = matrix_band(freq_ranking,max_mult,top,period,tol, multiples)\n",
    "                    dict_matrix[band] = [freq_ranking, matrix]\n",
    "                with open(d_lc_folder+'/error_matrixes'+lc_folder+'.pkl', 'wb') as handle:\n",
    "                    pkl.dump(dict_matrix, handle, protocol=pkl.HIGHEST_PROTOCOL)\n",
    "\n",
    "        \n"
   ]
  },
  {
   "cell_type": "code",
   "execution_count": null,
   "metadata": {},
   "outputs": [],
   "source": []
  },
  {
   "cell_type": "code",
   "execution_count": 8,
   "metadata": {},
   "outputs": [],
   "source": [
    "def print_matrix(dict_matrix):\n",
    "    print('Multiples: ', dict_matrix['multiples'])\n",
    "    "
   ]
  },
  {
   "cell_type": "code",
   "execution_count": 9,
   "metadata": {},
   "outputs": [],
   "source": [
    "def print_matrix(matrix, top, max, freq_ranking):\n",
    "    for i in range(top):\n",
    "        print(f'freq ranking {i+1}: {freq_ranking[i]:0.4f}', end='  ')\n",
    "        for j in range(2*max-3):\n",
    "            \n",
    "            print(f\"[{matrix[i][j][0]:0.4f}, {matrix[i][j][1]}]\", end=\" \")\n",
    "        print()"
   ]
  },
  {
   "cell_type": "code",
   "execution_count": 11,
   "metadata": {},
   "outputs": [
    {
     "name": "stdout",
     "output_type": "stream",
     "text": [
      "Multiples:  [1.         2.         3.         4.         0.5        0.33333333\n",
      " 0.25      ]\n",
      "Band: BP\n",
      "freq ranking 1: 2.0264  [0.8520, False] [0.9260, False] [0.9507, False] [0.9630, False] [0.7041, False] [0.5561, False] [0.4081, False] \n",
      "freq ranking 2: 1.6378  [0.8169, False] [0.9085, False] [0.9390, False] [0.9542, False] [0.6338, False] [0.4507, False] [0.2677, False] \n",
      "freq ranking 3: 0.0787  [2.8113, False] [0.9057, False] [0.2704, False] [0.0472, False] [6.6227, False] [10.4340, False] [14.2453, False] \n",
      "freq ranking 4: 1.8635  [0.8391, False] [0.9195, False] [0.9464, False] [0.9598, False] [0.6782, False] [0.5173, False] [0.3564, False] \n",
      "freq ranking 5: 0.4581  [0.3454, False] [0.6727, False] [0.7818, False] [0.8364, False] [0.3092, False] [0.9638, False] [1.6184, False] \n",
      "freq ranking 6: 1.7990  [0.8333, False] [0.9167, False] [0.9444, False] [0.9583, False] [0.6666, False] [0.5000, False] [0.3333, False] \n",
      "freq ranking 7: 0.3163  [0.0519, False] [0.5260, False] [0.6840, False] [0.7630, False] [0.8961, False] [1.8442, False] [2.7923, False] \n",
      "freq ranking 8: 0.5224  [0.4260, False] [0.7130, False] [0.8087, False] [0.8565, False] [0.1480, False] [0.7220, False] [1.2961, False] \n",
      "freq ranking 9: 1.1512  [0.7395, False] [0.8698, False] [0.9132, False] [0.9349, False] [0.4791, False] [0.2186, False] [0.0419, False] \n",
      "freq ranking 10: 1.2158  [0.7534, False] [0.8767, False] [0.9178, False] [0.9383, False] [0.5067, False] [0.2601, False] [0.0135, False] \n",
      "Band: G\n",
      "freq ranking 1: 2.0264  [0.8520, False] [0.9260, False] [0.9507, False] [0.9630, False] [0.7041, False] [0.5561, False] [0.4081, False] \n",
      "freq ranking 2: 1.4317  [0.7906, False] [0.8953, False] [0.9302, False] [0.9476, False] [0.5811, False] [0.3717, False] [0.1622, False] \n",
      "freq ranking 3: 1.1513  [0.7395, False] [0.8698, False] [0.9132, False] [0.9349, False] [0.4791, False] [0.2186, False] [0.0418, False] \n",
      "freq ranking 4: 0.4581  [0.3454, False] [0.6727, False] [0.7818, False] [0.8364, False] [0.3092, False] [0.9638, False] [1.6184, False] \n",
      "freq ranking 5: 1.3331  [0.7751, False] [0.8875, False] [0.9250, False] [0.9438, False] [0.5501, False] [0.3252, False] [0.1003, False] \n",
      "freq ranking 6: 1.1943  [0.7489, False] [0.8745, False] [0.9163, False] [0.9372, False] [0.4979, False] [0.2468, False] [0.0043, True] \n",
      "freq ranking 7: 1.6378  [0.8169, False] [0.9085, False] [0.9390, False] [0.9542, False] [0.6338, False] [0.4507, False] [0.2677, False] \n",
      "freq ranking 8: 0.4364  [0.3129, False] [0.6564, False] [0.7710, False] [0.8282, False] [0.3743, False] [1.0614, False] [1.7486, False] \n",
      "freq ranking 9: 1.3543  [0.7786, False] [0.8893, False] [0.9262, False] [0.9446, False] [0.5572, False] [0.3358, False] [0.1144, False] \n",
      "freq ranking 10: 0.5165  [0.4194, False] [0.7097, False] [0.8065, False] [0.8549, False] [0.1611, False] [0.7417, False] [1.3223, False] \n"
     ]
    }
   ],
   "source": [
    "name = '193720243577690880'\n",
    "dict_matrix = pd.read_pickle('../dataset/ECL/'+name+'/error_matrixes'+name+'.pkl')\n",
    "print('Multiples: ', dict_matrix['multiples'])\n",
    "for band in ['BP', 'G']:\n",
    "    if band != 'multiples':\n",
    "        print('Band: '+band)\n",
    "        matrix = dict_matrix[band][1]\n",
    "        freq_ranking = dict_matrix[band][0]\n",
    "        print_matrix(matrix,top,max_mult,freq_ranking)\n"
   ]
  },
  {
   "cell_type": "code",
   "execution_count": 12,
   "metadata": {},
   "outputs": [
    {
     "name": "stdout",
     "output_type": "stream",
     "text": [
      "Band: RP\n",
      "freq ranking 1: 2.0264  [0.8520, False] [0.9260, False] [0.9507, False] [0.9630, False] [0.7041, False] [0.5561, False] [0.4081, False] \n",
      "freq ranking 2: 1.6378  [0.8169, False] [0.9085, False] [0.9390, False] [0.9542, False] [0.6338, False] [0.4507, False] [0.2677, False] \n",
      "freq ranking 3: 0.4581  [0.3454, False] [0.6727, False] [0.7818, False] [0.8364, False] [0.3092, False] [0.9638, False] [1.6184, False] \n",
      "freq ranking 4: 0.0787  [2.8113, False] [0.9057, False] [0.2704, False] [0.0472, False] [6.6227, False] [10.4340, False] [14.2453, False] \n",
      "freq ranking 5: 1.1512  [0.7395, False] [0.8698, False] [0.9132, False] [0.9349, False] [0.4791, False] [0.2186, False] [0.0419, False] \n",
      "freq ranking 6: 1.2686  [0.7636, False] [0.8818, False] [0.9212, False] [0.9409, False] [0.5273, False] [0.2909, False] [0.0545, False] \n",
      "freq ranking 7: 1.3332  [0.7751, False] [0.8875, False] [0.9250, False] [0.9438, False] [0.5502, False] [0.3253, False] [0.1003, False] \n",
      "freq ranking 8: 0.3163  [0.0519, False] [0.5260, False] [0.6840, False] [0.7630, False] [0.8961, False] [1.8442, False] [2.7923, False] \n",
      "freq ranking 9: 1.3543  [0.7786, False] [0.8893, False] [0.9262, False] [0.9446, False] [0.5572, False] [0.3358, False] [0.1144, False] \n",
      "freq ranking 10: 0.5166  [0.4195, False] [0.7098, False] [0.8065, False] [0.8549, False] [0.1609, False] [0.7414, False] [1.3218, False] \n",
      "Band: multiband\n",
      "freq ranking 1: 2.0264  [0.8520, False] [0.9260, False] [0.9507, False] [0.9630, False] [0.7041, False] [0.5561, False] [0.4081, False] \n",
      "freq ranking 2: 1.1513  [0.7395, False] [0.8698, False] [0.9132, False] [0.9349, False] [0.4791, False] [0.2186, False] [0.0418, False] \n",
      "freq ranking 3: 0.4581  [0.3454, False] [0.6727, False] [0.7818, False] [0.8364, False] [0.3092, False] [0.9638, False] [1.6184, False] \n",
      "freq ranking 4: 1.4317  [0.7906, False] [0.8953, False] [0.9302, False] [0.9476, False] [0.5811, False] [0.3717, False] [0.1622, False] \n",
      "freq ranking 5: 1.6378  [0.8169, False] [0.9085, False] [0.9390, False] [0.9542, False] [0.6338, False] [0.4507, False] [0.2677, False] \n",
      "freq ranking 6: 1.3331  [0.7751, False] [0.8875, False] [0.9250, False] [0.9438, False] [0.5501, False] [0.3252, False] [0.1003, False] \n",
      "freq ranking 7: 1.1942  [0.7489, False] [0.8745, False] [0.9163, False] [0.9372, False] [0.4978, False] [0.2467, False] [0.0044, True] \n",
      "freq ranking 8: 1.3543  [0.7786, False] [0.8893, False] [0.9262, False] [0.9446, False] [0.5572, False] [0.3358, False] [0.1144, False] \n",
      "freq ranking 9: 0.5165  [0.4194, False] [0.7097, False] [0.8065, False] [0.8549, False] [0.1611, False] [0.7417, False] [1.3223, False] \n",
      "freq ranking 10: 0.4364  [0.3129, False] [0.6564, False] [0.7710, False] [0.8282, False] [0.3743, False] [1.0614, False] [1.7486, False] \n"
     ]
    }
   ],
   "source": [
    "for band in ['RP', 'multiband']:\n",
    "    if band != 'multiples':\n",
    "        print('Band: '+band)\n",
    "        matrix = dict_matrix[band][1]\n",
    "        freq_ranking = dict_matrix[band][0]\n",
    "        print_matrix(matrix,top,max_mult,freq_ranking)"
   ]
  },
  {
   "cell_type": "code",
   "execution_count": 13,
   "metadata": {},
   "outputs": [],
   "source": [
    "dict_matrix = {'multiples': [],\n",
    "    'BP': [freq_ranking, matrix],\n",
    "    'G': [freq_ranking, matrix],\n",
    "    'RG': [freq_ranking, matrix],\n",
    "    'multiband': [freq_ranking, matrix]\n",
    "}"
   ]
  },
  {
   "cell_type": "code",
   "execution_count": null,
   "metadata": {},
   "outputs": [],
   "source": []
  }
 ],
 "metadata": {
  "kernelspec": {
   "display_name": "gaia_n",
   "language": "python",
   "name": "python3"
  },
  "language_info": {
   "codemirror_mode": {
    "name": "ipython",
    "version": 3
   },
   "file_extension": ".py",
   "mimetype": "text/x-python",
   "name": "python",
   "nbconvert_exporter": "python",
   "pygments_lexer": "ipython3",
   "version": "3.11.5"
  },
  "orig_nbformat": 4,
  "vscode": {
   "interpreter": {
    "hash": "8372826fd80c763bf6cbfe4b0dbd91864036f12608c3f0d1cf16fef371790a33"
   }
  }
 },
 "nbformat": 4,
 "nbformat_minor": 2
}
