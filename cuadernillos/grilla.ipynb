{
 "cells": [
  {
   "cell_type": "code",
   "execution_count": 1,
   "metadata": {},
   "outputs": [],
   "source": [
    "import pandas as pd\n",
    "from astroquery.gaia import Gaia "
   ]
  },
  {
   "attachments": {},
   "cell_type": "markdown",
   "metadata": {},
   "source": [
    "# Calculo de grilla de frecuencias"
   ]
  },
  {
   "attachments": {},
   "cell_type": "markdown",
   "metadata": {},
   "source": [
    "- Calcular minimo y maximos de frecuencias/periodos de cada tipo, con el periodo de catálogo de Gaia, **segun el dataset**."
   ]
  },
  {
   "cell_type": "code",
   "execution_count": 2,
   "metadata": {},
   "outputs": [],
   "source": [
    "data_global = pd.read_pickle(\"../../PeriodogramsGaia/dataset/data_global.pkl\")"
   ]
  },
  {
   "cell_type": "code",
   "execution_count": 3,
   "metadata": {},
   "outputs": [],
   "source": [
    "def min_max_freq(data_global):\n",
    "    grid = pd.DataFrame(columns=['low-frecuency', 'high-frequency'], index = data_global.type.unique())\n",
    "    for type_lc in data_global.groupby('type'):\n",
    "        name_type = list(type_lc[1].type)[0]\n",
    "        high = 1/type_lc[1].pf.min()\n",
    "        low = 1/type_lc[1].pf.max()\n",
    "        grid.loc[name_type] = [low, high]\n",
    "\n",
    "    return grid"
   ]
  },
  {
   "cell_type": "code",
   "execution_count": 4,
   "metadata": {},
   "outputs": [],
   "source": [
    "grid = min_max_freq(data_global)"
   ]
  },
  {
   "cell_type": "code",
   "execution_count": 5,
   "metadata": {},
   "outputs": [
    {
     "data": {
      "text/html": [
       "<div>\n",
       "<style scoped>\n",
       "    .dataframe tbody tr th:only-of-type {\n",
       "        vertical-align: middle;\n",
       "    }\n",
       "\n",
       "    .dataframe tbody tr th {\n",
       "        vertical-align: top;\n",
       "    }\n",
       "\n",
       "    .dataframe thead th {\n",
       "        text-align: right;\n",
       "    }\n",
       "</style>\n",
       "<table border=\"1\" class=\"dataframe\">\n",
       "  <thead>\n",
       "    <tr style=\"text-align: right;\">\n",
       "      <th></th>\n",
       "      <th>low-frecuency</th>\n",
       "      <th>high-frequency</th>\n",
       "    </tr>\n",
       "  </thead>\n",
       "  <tbody>\n",
       "    <tr>\n",
       "      <th>ECL</th>\n",
       "      <td>0.01295</td>\n",
       "      <td>2.665704</td>\n",
       "    </tr>\n",
       "    <tr>\n",
       "      <th>RR</th>\n",
       "      <td>1.243939</td>\n",
       "      <td>2.887145</td>\n",
       "    </tr>\n",
       "  </tbody>\n",
       "</table>\n",
       "</div>"
      ],
      "text/plain": [
       "    low-frecuency high-frequency\n",
       "ECL       0.01295       2.665704\n",
       "RR       1.243939       2.887145"
      ]
     },
     "execution_count": 5,
     "metadata": {},
     "output_type": "execute_result"
    }
   ],
   "source": [
    "grid"
   ]
  },
  {
   "attachments": {},
   "cell_type": "markdown",
   "metadata": {},
   "source": [
    "### Mejor opción"
   ]
  },
  {
   "attachments": {},
   "cell_type": "markdown",
   "metadata": {},
   "source": [
    "- Calcular minimo y maximos de frecuencias/periodos de cada tipo, con el periodo de catálogo de Gaia, segun **tablas de Gaia** con una consulta."
   ]
  },
  {
   "cell_type": "code",
   "execution_count": 6,
   "metadata": {},
   "outputs": [],
   "source": [
    "\n",
    "def min_max_freq_tables(tables):\n",
    "    grid = pd.DataFrame(columns=['low-frecuency', 'high-frequency'], index = tables.keys())\n",
    "    for type, table in zip(tables.keys(), tables.values()):\n",
    "        if type == \"ECL\":\n",
    "            query = f\"\"\"\n",
    "                SELECT TOP 1 source_id, frequency\n",
    "                FROM gaiadr3.{table}\n",
    "                WHERE frequency IS NOT NULL\n",
    "                ORDER BY frequency ASC\n",
    "\n",
    "                UNION\n",
    "\n",
    "                SELECT TOP 1 source_id, frequency\n",
    "                FROM gaiadr3.{table}\n",
    "                WHERE frequency IS NOT NULL\n",
    "                ORDER BY frequency DESC\n",
    "\n",
    "                \"\"\"\n",
    "            \n",
    "        else:\n",
    "            query = f\"\"\"\n",
    "                SELECT TOP 1 source_id, pf\n",
    "                FROM gaiadr3.{table}\n",
    "                WHERE pf IS NOT NULL\n",
    "                ORDER BY pf ASC\n",
    "\n",
    "                UNION\n",
    "\n",
    "                SELECT TOP 1 source_id, pf\n",
    "                FROM gaiadr3.{table}\n",
    "                WHERE pf IS NOT NULL\n",
    "                ORDER BY pf DESC\n",
    "                \"\"\"\n",
    "            \n",
    "        \n",
    "        job = Gaia.launch_job(query)\n",
    "        info = job.get_results().to_pandas(\"source_id\")\n",
    "        \n",
    "        if type == \"RR\":\n",
    "            info['frequency'] = 1/info.pf\n",
    "            info.drop('pf', axis=1, inplace=True)\n",
    "            high = info.frequency.iloc[1]\n",
    "            low = info.frequency.iloc[0]\n",
    "        else:\n",
    "            high = info.frequency.iloc[0]\n",
    "            low = info.frequency.iloc[1]\n",
    "        grid.loc[type] = [low, high]\n",
    "\n",
    "    return grid\n",
    "\n",
    "    \n"
   ]
  },
  {
   "cell_type": "code",
   "execution_count": 7,
   "metadata": {},
   "outputs": [
    {
     "data": {
      "text/html": [
       "<div>\n",
       "<style scoped>\n",
       "    .dataframe tbody tr th:only-of-type {\n",
       "        vertical-align: middle;\n",
       "    }\n",
       "\n",
       "    .dataframe tbody tr th {\n",
       "        vertical-align: top;\n",
       "    }\n",
       "\n",
       "    .dataframe thead th {\n",
       "        text-align: right;\n",
       "    }\n",
       "</style>\n",
       "<table border=\"1\" class=\"dataframe\">\n",
       "  <thead>\n",
       "    <tr style=\"text-align: right;\">\n",
       "      <th></th>\n",
       "      <th>low-frecuency</th>\n",
       "      <th>high-frequency</th>\n",
       "    </tr>\n",
       "  </thead>\n",
       "  <tbody>\n",
       "    <tr>\n",
       "      <th>ECL</th>\n",
       "      <td>0.001473</td>\n",
       "      <td>4.999929</td>\n",
       "    </tr>\n",
       "    <tr>\n",
       "      <th>RR</th>\n",
       "      <td>1.00061</td>\n",
       "      <td>4.973236</td>\n",
       "    </tr>\n",
       "  </tbody>\n",
       "</table>\n",
       "</div>"
      ],
      "text/plain": [
       "    low-frecuency high-frequency\n",
       "ECL      0.001473       4.999929\n",
       "RR        1.00061       4.973236"
      ]
     },
     "execution_count": 7,
     "metadata": {},
     "output_type": "execute_result"
    }
   ],
   "source": [
    "tables = {'ECL':\"vari_eclipsing_binary\",'RR':\"vari_rrlyrae\"}\n",
    "grid = min_max_freq_tables(tables)\n",
    "grid"
   ]
  },
  {
   "cell_type": "markdown",
   "metadata": {},
   "source": []
  }
 ],
 "metadata": {
  "kernelspec": {
   "display_name": "gaia_n",
   "language": "python",
   "name": "python3"
  },
  "language_info": {
   "codemirror_mode": {
    "name": "ipython",
    "version": 3
   },
   "file_extension": ".py",
   "mimetype": "text/x-python",
   "name": "python",
   "nbconvert_exporter": "python",
   "pygments_lexer": "ipython3",
   "version": "3.12.1"
  },
  "orig_nbformat": 4,
  "vscode": {
   "interpreter": {
    "hash": "8372826fd80c763bf6cbfe4b0dbd91864036f12608c3f0d1cf16fef371790a33"
   }
  }
 },
 "nbformat": 4,
 "nbformat_minor": 2
}
