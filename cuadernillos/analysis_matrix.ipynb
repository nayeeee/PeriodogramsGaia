{
 "cells": [
  {
   "cell_type": "code",
   "execution_count": 1,
   "metadata": {},
   "outputs": [],
   "source": [
    "import os\n",
    "import pandas as pd\n",
    "import numpy as np\n",
    "import pickle as pkl"
   ]
  },
  {
   "cell_type": "markdown",
   "metadata": {},
   "source": [
    "## Matriz de peak de frecuencia v/s periodo objetivo (con múltiplos)"
   ]
  },
  {
   "cell_type": "code",
   "execution_count": 2,
   "metadata": {},
   "outputs": [],
   "source": [
    "def sort_periodogram(per):\n",
    "    local_maxima = np.where((per[1:-1] > per[:-2]) & (per[1:-1] > per[2:]))[0] + 1\n",
    "    idx_highest = local_maxima[np.argsort(per[local_maxima])[::-1]]\n",
    "    return idx_highest"
   ]
  },
  {
   "cell_type": "code",
   "execution_count": 3,
   "metadata": {},
   "outputs": [],
   "source": [
    "def top_frequencies(top, idx_highest, freq):\n",
    "    frequencies = [freq[i] for i in idx_highest]\n",
    "    return frequencies[:top]"
   ]
  },
  {
   "cell_type": "code",
   "execution_count": 4,
   "metadata": {},
   "outputs": [],
   "source": [
    "# tamaño max-1 + max-2\n",
    "def generator_multiples(max):\n",
    "    mult = np.concatenate([np.arange(1, max, 1), # multiples\n",
    "                                1./np.arange(2, max, 1)]) # submultiples\n",
    "    return mult"
   ]
  },
  {
   "cell_type": "code",
   "execution_count": 5,
   "metadata": {},
   "outputs": [
    {
     "data": {
      "text/plain": [
       "array([1.        , 2.        , 3.        , 4.        , 0.5       ,\n",
       "       0.33333333, 0.25      ])"
      ]
     },
     "execution_count": 5,
     "metadata": {},
     "output_type": "execute_result"
    }
   ],
   "source": [
    "generator_multiples(5)"
   ]
  },
  {
   "cell_type": "code",
   "execution_count": 6,
   "metadata": {},
   "outputs": [],
   "source": [
    "def relative_error(observed, actual):\n",
    "    return np.absolute((observed - actual)/actual)"
   ]
  },
  {
   "cell_type": "code",
   "execution_count": 7,
   "metadata": {},
   "outputs": [],
   "source": [
    "def matrix_band(frequencies_ranking, max, top, period, tol,multiples):\n",
    "    matrix = [ [ [] for i in range(2*max-3) ] for j in range(top) ]\n",
    "    # para que acepte solo un tol True\n",
    "    error_tol_true = []\n",
    "    for i in range(len(frequencies_ranking)):\n",
    "        for j in range(len(multiples)):\n",
    "            error = relative_error(1/(frequencies_ranking[i]*multiples[j]), period)\n",
    "            if (error < tol):\n",
    "                if len(error_tol_true) == 0:\n",
    "                    error_tol_true = [error, i, j]\n",
    "                    tol_bool = True\n",
    "                else:\n",
    "                    if error_tol_true[0] >  error:\n",
    "                        matrix[error_tol_true[1]][error_tol_true[2]] = [error_tol_true[0], False]\n",
    "                        error_tol_true = [error, i, j]\n",
    "                        tol_bool = True\n",
    "                    else:\n",
    "                        tol_bool = False\n",
    "                    \n",
    "            else:\n",
    "                tol_bool = False\n",
    "            matrix[i][j] = [error, tol_bool]\n",
    "    return matrix"
   ]
  },
  {
   "cell_type": "code",
   "execution_count": 9,
   "metadata": {},
   "outputs": [],
   "source": [
    "directory = '../dataset'\n",
    "max_mult = 5\n",
    "top = 10\n",
    "tol = 1e-2\n",
    "multiples = generator_multiples(max_mult)\n",
    "data_global = pd.read_pickle('../dataset/data_global.pkl')\n",
    "for folder_type in os.listdir(directory):\n",
    "    # d_folder_type = \n",
    "    d_folder_type = os.path.join(directory, folder_type)\n",
    "    # folder_type = 'ECL' 'RR'\n",
    "    if folder_type.find('.') == -1:\n",
    "        freq = pd.read_pickle('../dataset/'+folder_type+'/frequencies_'+folder_type+'.pkl')\n",
    "        #lc_folder = '530580438478016768'\n",
    "        for lc_folder in os.listdir(d_folder_type):\n",
    "            # porque esta frequencies_ECL.pkl\n",
    "            if lc_folder.find('.') == -1:\n",
    "                # d_lc_folder\n",
    "                dict_matrix = {}\n",
    "                dict_matrix['multiples'] = multiples\n",
    "                period = data_global[data_global.index == int(lc_folder)].values[0][0]\n",
    "                d_lc_folder = os.path.join(d_folder_type,lc_folder)\n",
    "                d_periodograms = os.path.join(d_lc_folder, 'periodograms.pkl')\n",
    "                dict_periodograms = pd.read_pickle(d_periodograms)\n",
    "                for band in dict_periodograms.keys():\n",
    "                    per = dict_periodograms[band]\n",
    "                    idx_highest = sort_periodogram(per)\n",
    "                    freq_ranking = top_frequencies(top, idx_highest,freq)\n",
    "                    matrix = matrix_band(freq_ranking,max_mult,top,period,tol, multiples)\n",
    "                    dict_matrix[band] = [freq_ranking, matrix]\n",
    "                with open(d_lc_folder+'/error_matrixes'+lc_folder+'.pkl', 'wb') as handle:\n",
    "                    pkl.dump(dict_matrix, handle, protocol=pkl.HIGHEST_PROTOCOL)\n",
    "\n",
    "        \n"
   ]
  },
  {
   "cell_type": "code",
   "execution_count": null,
   "metadata": {},
   "outputs": [],
   "source": [
    "def print_matrix(dict_matrix):\n",
    "    print('Multiples: ', dict_matrix['multiples'])\n",
    "    "
   ]
  },
  {
   "cell_type": "code",
   "execution_count": null,
   "metadata": {},
   "outputs": [],
   "source": [
    "def print_matrix(matrix, top, max, freq_ranking):\n",
    "    for i in range(top):\n",
    "        print(f'freq ranking {i+1}: {freq_ranking[i]:0.4f}', end='  ')\n",
    "        for j in range(2*max-3):\n",
    "            \n",
    "            print(f\"[{matrix[i][j][0]:0.4f}, {matrix[i][j][1]}]\", end=\" \")\n",
    "        print()"
   ]
  },
  {
   "cell_type": "code",
   "execution_count": null,
   "metadata": {},
   "outputs": [
    {
     "data": {
      "text/plain": [
       "1.6197401397919018"
      ]
     },
     "execution_count": 43,
     "metadata": {},
     "output_type": "execute_result"
    }
   ],
   "source": [
    "period = data_global[data_global.index == int(name)].values[0][0]\n",
    "1/period"
   ]
  },
  {
   "cell_type": "markdown",
   "metadata": {},
   "source": [
    "name = '246756973652292992' tiene true en 0,0 y 0,5"
   ]
  },
  {
   "cell_type": "code",
   "execution_count": null,
   "metadata": {},
   "outputs": [
    {
     "name": "stdout",
     "output_type": "stream",
     "text": [
      "Multiples:  [1.         2.         3.         4.         0.5        0.33333333\n",
      " 0.25      ]\n",
      "Band: BP\n",
      "freq ranking 1: 2.0437  [0.0000, True] [0.5000, False] [0.6667, False] [0.7500, False] [1.0000, False] [2.0000, False] [3.0000, False] \n",
      "freq ranking 2: 2.2540  [0.0933, False] [0.5466, False] [0.6978, False] [0.7733, False] [0.8134, False] [1.7201, False] [2.6268, False] \n",
      "freq ranking 3: 1.9068  [0.0718, False] [0.4641, False] [0.6427, False] [0.7320, False] [1.1436, False] [2.2154, False] [3.2872, False] \n",
      "freq ranking 4: 9.9413  [0.7944, False] [0.8972, False] [0.9315, False] [0.9486, False] [0.5888, False] [0.3833, False] [0.1777, False] \n",
      "freq ranking 5: 2.0650  [0.0103, False] [0.5052, False] [0.6701, False] [0.7526, False] [0.9794, False] [1.9691, False] [2.9588, False] \n",
      "freq ranking 6: 2.0546  [0.0053, False] [0.5026, False] [0.6684, False] [0.7513, False] [0.9894, False] [1.9841, False] [2.9788, False] \n",
      "freq ranking 7: 1.7242  [0.1853, False] [0.4073, False] [0.6049, False] [0.7037, False] [1.3706, False] [2.5559, False] [3.7412, False] \n",
      "freq ranking 8: 2.2153  [0.0775, False] [0.5387, False] [0.6925, False] [0.7694, False] [0.8451, False] [1.7676, False] [2.6902, False] \n",
      "freq ranking 9: 1.5913  [0.2843, False] [0.3578, False] [0.5719, False] [0.6789, False] [1.5686, False] [2.8529, False] [4.1372, False] \n",
      "freq ranking 10: 1.8853  [0.0840, False] [0.4580, False] [0.6387, False] [0.7290, False] [1.1681, False] [2.2521, False] [3.3361, False] \n",
      "Band: G\n",
      "freq ranking 1: 2.0437  [0.0000, True] [0.5000, False] [0.6667, False] [0.7500, False] [1.0000, False] [2.0000, False] [3.0000, False] \n",
      "freq ranking 2: 2.2539  [0.0933, False] [0.5466, False] [0.6978, False] [0.7733, False] [0.8135, False] [1.7202, False] [2.6270, False] \n",
      "freq ranking 3: 9.9413  [0.7944, False] [0.8972, False] [0.9315, False] [0.9486, False] [0.5888, False] [0.3833, False] [0.1777, False] \n",
      "freq ranking 4: 2.0650  [0.0103, False] [0.5052, False] [0.6701, False] [0.7526, False] [0.9794, False] [1.9691, False] [2.9588, False] \n",
      "freq ranking 5: 1.5760  [0.2968, False] [0.3516, False] [0.5677, False] [0.6758, False] [1.5935, False] [2.8903, False] [4.1871, False] \n",
      "freq ranking 6: 2.0546  [0.0053, False] [0.5026, False] [0.6684, False] [0.7513, False] [0.9894, False] [1.9841, False] [2.9788, False] \n",
      "freq ranking 7: 1.7644  [0.1583, False] [0.4208, False] [0.6139, False] [0.7104, False] [1.3166, False] [2.4749, False] [3.6332, False] \n",
      "freq ranking 8: 2.1036  [0.0285, False] [0.5142, False] [0.6762, False] [0.7571, False] [0.9431, False] [1.9146, False] [2.8861, False] \n",
      "freq ranking 9: 2.2047  [0.0730, False] [0.5365, False] [0.6910, False] [0.7683, False] [0.8540, False] [1.7809, False] [2.7079, False] \n",
      "freq ranking 10: 2.1054  [0.0293, False] [0.5146, False] [0.6764, False] [0.7573, False] [0.9414, False] [1.9121, False] [2.8828, False] \n"
     ]
    }
   ],
   "source": [
    "name = '246756973652292992'\n",
    "dict_matrix = pd.read_pickle('../dataset/RR/'+name+'/error_matrixes'+name+'.pkl')\n",
    "print('Multiples: ', dict_matrix['multiples'])\n",
    "for band in ['BP', 'G']:\n",
    "    if band != 'multiples':\n",
    "        print('Band: '+band)\n",
    "        matrix = dict_matrix[band][1]\n",
    "        freq_ranking = dict_matrix[band][0]\n",
    "        print_matrix(matrix,10,5,freq_ranking)\n"
   ]
  },
  {
   "cell_type": "code",
   "execution_count": null,
   "metadata": {},
   "outputs": [
    {
     "name": "stdout",
     "output_type": "stream",
     "text": [
      "Band: RP\n",
      "freq ranking 1: 2.0437  [0.0000, True] [0.5000, False] [0.6667, False] [0.7500, False] [1.0000, False] [2.0000, False] [3.0000, False] \n",
      "freq ranking 2: 2.2540  [0.0933, False] [0.5466, False] [0.6978, False] [0.7733, False] [0.8134, False] [1.7201, False] [2.6268, False] \n",
      "freq ranking 3: 1.9067  [0.0719, False] [0.4641, False] [0.6427, False] [0.7320, False] [1.1437, False] [2.2156, False] [3.2874, False] \n",
      "freq ranking 4: 9.9412  [0.7944, False] [0.8972, False] [0.9315, False] [0.9486, False] [0.5888, False] [0.3833, False] [0.1777, False] \n",
      "freq ranking 5: 2.0651  [0.0104, False] [0.5052, False] [0.6701, False] [0.7526, False] [0.9793, False] [1.9689, False] [2.9586, False] \n",
      "freq ranking 6: 2.0546  [0.0053, False] [0.5026, False] [0.6684, False] [0.7513, False] [0.9894, False] [1.9841, False] [2.9788, False] \n",
      "freq ranking 7: 1.7242  [0.1853, False] [0.4073, False] [0.6049, False] [0.7037, False] [1.3706, False] [2.5559, False] [3.7412, False] \n",
      "freq ranking 8: 1.5913  [0.2843, False] [0.3578, False] [0.5719, False] [0.6789, False] [1.5686, False] [2.8529, False] [4.1372, False] \n",
      "freq ranking 9: 1.8853  [0.0840, False] [0.4580, False] [0.6387, False] [0.7290, False] [1.1681, False] [2.2521, False] [3.3361, False] \n",
      "freq ranking 10: 1.9085  [0.0708, False] [0.4646, False] [0.6431, False] [0.7323, False] [1.1417, False] [2.2125, False] [3.2834, False] \n",
      "Band: multiband\n",
      "freq ranking 1: 2.0437  [0.0000, True] [0.5000, False] [0.6667, False] [0.7500, False] [1.0000, False] [2.0000, False] [3.0000, False] \n",
      "freq ranking 2: 2.2540  [0.0933, False] [0.5466, False] [0.6978, False] [0.7733, False] [0.8134, False] [1.7201, False] [2.6268, False] \n",
      "freq ranking 3: 9.9413  [0.7944, False] [0.8972, False] [0.9315, False] [0.9486, False] [0.5888, False] [0.3833, False] [0.1777, False] \n",
      "freq ranking 4: 2.0651  [0.0104, False] [0.5052, False] [0.6701, False] [0.7526, False] [0.9793, False] [1.9689, False] [2.9586, False] \n",
      "freq ranking 5: 2.0546  [0.0053, False] [0.5026, False] [0.6684, False] [0.7513, False] [0.9894, False] [1.9841, False] [2.9788, False] \n",
      "freq ranking 6: 1.5761  [0.2967, False] [0.3517, False] [0.5678, False] [0.6758, False] [1.5934, False] [2.8901, False] [4.1868, False] \n",
      "freq ranking 7: 1.9069  [0.0717, False] [0.4641, False] [0.6428, False] [0.7321, False] [1.1435, False] [2.2152, False] [3.2870, False] \n",
      "freq ranking 8: 1.7644  [0.1583, False] [0.4208, False] [0.6139, False] [0.7104, False] [1.3166, False] [2.4749, False] [3.6332, False] \n",
      "freq ranking 9: 2.1036  [0.0285, False] [0.5142, False] [0.6762, False] [0.7571, False] [0.9431, False] [1.9146, False] [2.8861, False] \n",
      "freq ranking 10: 1.7242  [0.1853, False] [0.4073, False] [0.6049, False] [0.7037, False] [1.3706, False] [2.5559, False] [3.7412, False] \n"
     ]
    }
   ],
   "source": [
    "for band in ['RP', 'multiband']:\n",
    "    if band != 'multiples':\n",
    "        print('Band: '+band)\n",
    "        matrix = dict_matrix[band][1]\n",
    "        freq_ranking = dict_matrix[band][0]\n",
    "        print_matrix(matrix,10,5,freq_ranking)"
   ]
  },
  {
   "cell_type": "markdown",
   "metadata": {},
   "source": [
    "dict_matrix = {'multiples': [],\n",
    "    'BP': [freq_ranking, matrix],\n",
    "    'G': [freq_ranking, matrix],\n",
    "    'RG': [freq_ranking, matrix],\n",
    "    'multiband': [freq_ranking, matrix]\n",
    "}"
   ]
  }
 ],
 "metadata": {
  "kernelspec": {
   "display_name": "gaia",
   "language": "python",
   "name": "python3"
  },
  "language_info": {
   "codemirror_mode": {
    "name": "ipython",
    "version": 3
   },
   "file_extension": ".py",
   "mimetype": "text/x-python",
   "name": "python",
   "nbconvert_exporter": "python",
   "pygments_lexer": "ipython3",
   "version": "3.8.18"
  },
  "orig_nbformat": 4,
  "vscode": {
   "interpreter": {
    "hash": "65ff3c344aec772da584c647892069d16784991a17bd61aea89f91260260cd70"
   }
  }
 },
 "nbformat": 4,
 "nbformat_minor": 2
}
